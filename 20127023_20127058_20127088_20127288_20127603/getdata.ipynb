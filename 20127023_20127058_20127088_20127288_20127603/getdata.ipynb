{
 "cells": [
  {
   "cell_type": "markdown",
   "metadata": {},
   "source": [
    "# Thu thập dữ liệu:"
   ]
  },
  {
   "cell_type": "markdown",
   "metadata": {},
   "source": [
    "- **Môi trường:** Google colab, Drive hoặc Local\n",
    "- **Thư viện:** pandas, BeautifulSoup, requests, os, datetime\n",
    "- **Các bước thu thập dữ liệu:**\n",
    "  - **Bước 1:** Dùng requests để request trang web worldometers/coronavirus (https://www.worldometers.info/coronavirus/) để get url có thể sử dụng được cho BeautifulSoup html parser\n",
    "  - **Bước 2:** Dùng soup để find 3 table cho 3 ngày theo ID ‘main_table_countries_{day} với day là từng item trong daylist gồm [`today`, `yesterday`,  `yesterday2`]\n",
    "  - **Bước 3:** Lấy tên của các column bằng tab `th`, sau đó clean lại để thuận tiện hơn trong việc phân tích\n",
    "  - **Bước 4:** Tạo thư mục chứa data theo nguyên tắc data_{today}\n",
    "  - **Bước 5:** Read từng row bằng (`tr`) và từng item trong row (`td`) rồi append vào 1 list (list sau khi được append đến row cuối cùng sẽ được chuyển thành pd.DataFrame, khi này DF tương ứng 1 table cho 1 ngày trên worldometer) sau đó write DataFrame đó vào file csv (hoặc xlsx) trong folder data vừa tạo ở phía trên theo tên covid19_{date} với date là ngày mà dữ liệu được cập nhật trên worldometer. Tiếp tục cho 2 ngày còn lại. \\\n",
    "    -> Sau khi hoàn tất các bước này, sẽ tạo ra 1 folder tên data_{date} gồm 3 file là 3 table của 3 ngày được hiển thị trên trang web."
   ]
  },
  {
   "cell_type": "markdown",
   "metadata": {
    "id": "o1aQrenuG0tz"
   },
   "source": [
    "# Colab (uncomment khi chạy trên Google Colab)\n",
    "---"
   ]
  },
  {
   "cell_type": "code",
   "execution_count": 1,
   "metadata": {
    "id": "FT43Dwc2FSNv"
   },
   "outputs": [],
   "source": [
    "# %%capture\n",
    "# !pip install selenium\n",
    "# # !apt-get update\n",
    "# !apt install chromium-chromedriver\n",
    "# !cp /usr/lib/chromium-browser/chromedriver /usr/bin\n",
    "# import sys\n",
    "# sys.path.insert(0,'/usr/lib/chromium-browser/chromedriver')"
   ]
  },
  {
   "cell_type": "code",
   "execution_count": 2,
   "metadata": {
    "colab": {
     "base_uri": "https://localhost:8080/"
    },
    "id": "BTIEWOnjGgLt",
    "outputId": "ec772b59-042c-4ffe-809c-0cf75595b603"
   },
   "outputs": [],
   "source": [
    "# from google.colab import drive\n",
    "# drive.mount('/content/gdrive')"
   ]
  },
  {
   "cell_type": "code",
   "execution_count": 3,
   "metadata": {
    "colab": {
     "base_uri": "https://localhost:8080/"
    },
    "id": "6TqJmrm5F2BO",
    "outputId": "243b323e-ad8d-423d-da68-0777c1211bb4"
   },
   "outputs": [],
   "source": [
    "# %cd gdrive/MyDrive/data-visualization/"
   ]
  },
  {
   "cell_type": "code",
   "execution_count": 4,
   "metadata": {
    "colab": {
     "base_uri": "https://localhost:8080/"
    },
    "id": "RJVEfxj2JB3F",
    "outputId": "81360cb7-9a1b-4714-ab8f-2e1f8eace512"
   },
   "outputs": [],
   "source": [
    "# import requests\n",
    "# import json\n",
    "\n",
    "# url = 'http://ipinfo.io/json'\n",
    "# response = requests.get(url)\n",
    "# data = json.loads(response.text)\n",
    "\n",
    "# print(data['city'], data['country'], data['timezone'])"
   ]
  },
  {
   "cell_type": "markdown",
   "metadata": {
    "id": "-NODIMD9GyzV"
   },
   "source": [
    "---"
   ]
  },
  {
   "cell_type": "markdown",
   "metadata": {
    "id": "Oi57GTgWG3Uo"
   },
   "source": [
    "# Local"
   ]
  },
  {
   "cell_type": "code",
   "execution_count": 5,
   "metadata": {
    "_cell_guid": "79c7e3d0-c299-4dcb-8224-4455121ee9b0",
    "_uuid": "d629ff2d2480ee46fbb7e2d37f6b5fab8052498a",
    "execution": {
     "iopub.execute_input": "2020-12-08T01:03:57.263191Z",
     "iopub.status.busy": "2020-12-08T01:03:57.262618Z",
     "iopub.status.idle": "2020-12-08T01:03:57.599601Z",
     "shell.execute_reply": "2020-12-08T01:03:57.600076Z"
    },
    "id": "XYyArS5SFI_n",
    "papermill": {
     "duration": 0.347148,
     "end_time": "2020-12-08T01:03:57.600215",
     "exception": false,
     "start_time": "2020-12-08T01:03:57.253067",
     "status": "completed"
    },
    "tags": []
   },
   "outputs": [],
   "source": [
    "import pandas as pd\n",
    "import numpy as np\n",
    "\n",
    "from datetime import date, timedelta\n",
    "from bs4 import BeautifulSoup\n",
    "import requests\n",
    "\n",
    "import os"
   ]
  },
  {
   "cell_type": "code",
   "execution_count": 6,
   "metadata": {
    "execution": {
     "iopub.execute_input": "2020-12-08T01:03:57.623221Z",
     "iopub.status.busy": "2020-12-08T01:03:57.622477Z",
     "iopub.status.idle": "2020-12-08T01:03:59.855089Z",
     "shell.execute_reply": "2020-12-08T01:03:59.855589Z"
    },
    "id": "NUxcZDauFI_s",
    "papermill": {
     "duration": 2.246422,
     "end_time": "2020-12-08T01:03:59.855727",
     "exception": false,
     "start_time": "2020-12-08T01:03:57.609305",
     "status": "completed"
    },
    "tags": []
   },
   "outputs": [],
   "source": [
    "url=requests.get('https://www.worldometers.info/coronavirus/').text\n",
    "soup=BeautifulSoup(url, 'html.parser')"
   ]
  },
  {
   "cell_type": "code",
   "execution_count": 7,
   "metadata": {
    "id": "cMsyo3wrFI_t"
   },
   "outputs": [],
   "source": [
    "daylist = [\n",
    "    'today', 'yesterday', 'yesterday2'\n",
    "]\n",
    "\n",
    "my_tables = [soup.find('table', attrs={'id':f'main_table_countries_{day}'}) for day in daylist]"
   ]
  },
  {
   "cell_type": "markdown",
   "metadata": {
    "id": "AZZ1lfDqFI_t"
   },
   "source": [
    "HTML Table Elements\n",
    "- `th` table header\n",
    "- `tr` table row\n",
    "- `td` table data"
   ]
  },
  {
   "cell_type": "code",
   "execution_count": 8,
   "metadata": {
    "colab": {
     "base_uri": "https://localhost:8080/"
    },
    "id": "bWg5sTm5FI_v",
    "outputId": "e8c18091-46ef-4012-980d-de4530756381"
   },
   "outputs": [
    {
     "data": {
      "text/plain": [
       "{0: 'index',\n",
       " 1: 'country_other',\n",
       " 2: 'totalcases',\n",
       " 3: 'newcases',\n",
       " 4: 'totaldeaths',\n",
       " 5: 'newdeaths',\n",
       " 6: 'totalrecovered',\n",
       " 7: 'newrecovered',\n",
       " 8: 'activecases',\n",
       " 9: 'serious_critical',\n",
       " 10: 'tot_cases_1m_pop',\n",
       " 11: 'deaths_1m_pop',\n",
       " 12: 'totaltests',\n",
       " 13: 'tests_1m_pop',\n",
       " 14: 'population',\n",
       " 15: 'continent',\n",
       " 16: '1_caseevery_x_ppl',\n",
       " 17: '1_deathevery_x_ppl',\n",
       " 18: '1_testevery_x_ppl',\n",
       " 19: 'new_cases_1m_pop',\n",
       " 20: 'new_deaths_1m_pop',\n",
       " 21: 'active_cases_1m_pop'}"
      ]
     },
     "execution_count": 8,
     "metadata": {},
     "output_type": "execute_result"
    }
   ],
   "source": [
    "rules = {\n",
    "    ' ': '_',\n",
    "    '/': '_',\n",
    "    '\\n': '',\n",
    "    '\\xa0': '_',\n",
    "    ',': '_',\n",
    "    '#': 'index'\n",
    "}\n",
    "\n",
    "def clean_col(text):\n",
    "    for k, v in rules.items():\n",
    "        text = text.replace(k, v)\n",
    "    return text.lower()\n",
    "\n",
    "col_extract=my_tables[0].findAll('th') # th = table header\n",
    "columns_ = {\n",
    "    col_id: clean_col(col_extract[col_id].text) for col_id in range (len(col_extract))\n",
    "}\n",
    "columns_"
   ]
  },
  {
   "cell_type": "code",
   "execution_count": 9,
   "metadata": {
    "id": "k9hW_jTNFI_y"
   },
   "outputs": [],
   "source": [
    "data_dir=f'data_{date.today()}'\n",
    "\n",
    "# create data directory\n",
    "if not os.path.exists(data_dir):\n",
    "    os.mkdir(data_dir)"
   ]
  },
  {
   "cell_type": "code",
   "execution_count": 10,
   "metadata": {
    "colab": {
     "base_uri": "https://localhost:8080/"
    },
    "execution": {
     "iopub.execute_input": "2020-12-08T01:03:59.919093Z",
     "iopub.status.busy": "2020-12-08T01:03:59.916009Z",
     "iopub.status.idle": "2020-12-08T01:03:59.950380Z",
     "shell.execute_reply": "2020-12-08T01:03:59.950864Z"
    },
    "id": "XBQv2kdoFI_y",
    "outputId": "3ea150ff-1c69-4709-8296-0cd784d23f24",
    "papermill": {
     "duration": 0.059804,
     "end_time": "2020-12-08T01:03:59.951005",
     "exception": false,
     "start_time": "2020-12-08T01:03:59.891201",
     "status": "completed"
    },
    "tags": []
   },
   "outputs": [
    {
     "name": "stdout",
     "output_type": "stream",
     "text": [
      "0. data_2023-03-15|covid19_15_03_2023.csv\n",
      "1. data_2023-03-15|covid19_14_03_2023.csv\n",
      "2. data_2023-03-15|covid19_13_03_2023.csv\n"
     ]
    }
   ],
   "source": [
    "delta=0\n",
    "for table in my_tables:\n",
    "    current_table=[]\n",
    "    for row in table.findAll('tr'): # tr = table row\n",
    "        row_data=[]\n",
    "        for cell in row.findAll('td'): # td = table data\n",
    "            row_data.append(cell.text)\n",
    "            \n",
    "        if(len(row_data) > 0):\n",
    "            data = {\n",
    "                columns_[i]: row_data[i] for i in range(0, len(row_data))\n",
    "            }\n",
    "            current_table.append(data)\n",
    "    df=pd.DataFrame(current_table)\n",
    "\n",
    "    date_=(date.today() - timedelta(days=delta)).strftime(\"%d_%m_%Y\")\n",
    "    filename=f'{data_dir}/covid19_{date_}.csv'\n",
    "    \n",
    "    # .csv\n",
    "    df.to_csv(filename, index=False)\n",
    "    \n",
    "    # # .xlsx\n",
    "    # df.to_excel(filename, index=False)\n",
    "    \n",
    "    print(f'{delta}. {filename.replace(\"/\", \"|\")}')\n",
    "    delta+=1"
   ]
  }
 ],
 "metadata": {
  "colab": {
   "provenance": []
  },
  "gpuClass": "standard",
  "kernelspec": {
   "display_name": "min_ds-env",
   "language": "python",
   "name": "min_ds-env"
  },
  "language_info": {
   "codemirror_mode": {
    "name": "ipython",
    "version": 3
   },
   "file_extension": ".py",
   "mimetype": "text/x-python",
   "name": "python",
   "nbconvert_exporter": "python",
   "pygments_lexer": "ipython3",
   "version": "3.8.8"
  },
  "papermill": {
   "duration": 8.312021,
   "end_time": "2020-12-08T01:04:00.438834",
   "environment_variables": {},
   "exception": null,
   "input_path": "__notebook__.ipynb",
   "output_path": "__notebook__.ipynb",
   "parameters": {},
   "start_time": "2020-12-08T01:03:52.126813",
   "version": "2.1.0"
  }
 },
 "nbformat": 4,
 "nbformat_minor": 4
}
