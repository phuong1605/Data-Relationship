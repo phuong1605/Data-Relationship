{
 "cells": [
  {
   "cell_type": "markdown",
   "metadata": {},
   "source": [
    "<center>\n",
    "\n",
    "# **LAB 1**\n",
    "\n",
    "# **DATA RELATIONSHIP**\n",
    "\n",
    "\n",
    "\n",
    "</center>"
   ]
  },
  {
   "cell_type": "markdown",
   "metadata": {},
   "source": [
    "<center>\n",
    "\n",
    "# **Mục lục** <a name = \"TOC\"></a>\n",
    "\n",
    "</center>\n",
    "\n",
    "- [1. Giới thiệu thành viên](#section1)\n",
    "- [2. Các thư viện sử dụng](#section2)\n",
    "- [3. Mô tả dữ liệu](#section3)\n",
    "- [4. Xử lý dữ liệu](#section4)\n",
    "    - [4.1. Đọc dữ liệu vào Dataframe](#section4_1)\n",
    "    - [4.2. Số dòng và số cột của tập dữ liệu](#section4_2)\n",
    "    - [4.3. Ý nghĩa của mỗi dòng](#section4_3)\n",
    "    - [4.4. Kiểm tra các dòng bị trùng lắp](#section4_4)\n",
    "    - [4.5. Ý nghĩa của mỗi cột](#section4_5)\n",
    "    - [4.6. Kiểm tra kiểu dữ liệu của các cột và điều chỉnh cho phù hợp](#section4_6)\n",
    "    - [4.7. Tìm sự phân phối của các cột dữ liệu kiểu số](#section4_7)\n",
    "    - [4.8. Tìm sự phân phối của các cột dữ liệu phân loại](#section4_8)\n",
    "    - [4.9. Xử lý các dòng bị thiếu dữ liệu](#section4_9)\n",
    "- [5. Phân tích dữ liệu](#section5)\n",
    "    - [5.1. Vẽ biểu đồ heatmap sau khi đã xử lí để quan sát sự tương quan giữa các cột còn lại với nhau](#section5_1)\n",
    "    - [5.2. Vẽ biểu đồ Radarchart thể hiện mối tương quan của tổng số ca, ca tử vong, ca hồi phục, ca điều trị, số ca tử vong / tổng ca](#section5_2)\n",
    "    - [5.3. Vẽ biểu đồ Scatterplot thể hiện mối tương quan của tổng số ca nhiễm bệnh và tổng số ca xét nghiệm](#section5_3)\n",
    "    - [5.4. Vẽ biểu đồ Scatterplot thể hiện mối tương quan của tổng số ca và tổng số dân](#section5_4)\n",
    "    - [5.5. Vẽ biểu đồ Scatterplot để xem có mối tương quan của số ca hồi phục và số ca điều trị không](#section5_5)\n",
    "    - [5.6. Vẽ biểu đồ Barchart để thể hiện mối quan hệ giữa tử vong, ca hồi phục, ca điều trị các khu vực](#section5_6)\n",
    "    - [5.7. Vẽ biểu đồ Histogram để thể hiện sự phân bố của các quốc gia về tổng ca và số ca tử vong bằng histogram](#section5_7)\n",
    "    - [5.8. Vẽ biểu đồ Donutchart để thể hiện mối quan hệ giữa tổng số ca, ca tử vong, ca hồi phục, ca điều trị giữa các khu vực.](#section5_8)\n",
    "    - [5.9. Vẽ biểu đồ Boxplot thể hiện sự chênh lệch ca nhiễm khu vực, sau đó dùng kiểm định thống kê để xem sự chênh lệch ca nhiễm khu vực](#section5_9)\n",
    "- [6. Đôi điều về đồ án](#section6)\n",
    "- [7. Các nguồn tham khảo](#section7)"
   ]
  },
  {
   "cell_type": "markdown",
   "metadata": {},
   "source": [
    "# **1. Giới thiệu thành viên** <a name = \"section1\"></a>\n",
    "[Quay về mục lục](#TOC)"
   ]
  },
  {
   "cell_type": "markdown",
   "metadata": {},
   "source": [
    "| STT | MSSV | HỌ VÀ TÊN | CÔNG VIỆC|\n",
    "|:----:|:---:|:------:|:------:|\n",
    "| 1 | 20127023 | Trần Minh Hiệp | Thu thập dữ liệu, lựa chọn, phân tích dữ liệu, vẽ biểu đồ Heatmap (thực hiện 5.1). |\n",
    "| 2 | 20127058 | Lê Hồ Bảo Nhật | Thu thập dữ liệu, lựa chọn, phân tích dữ liệu, vẽ biểu đồ Radarchart, Scatterplot (thực hiện 5.2, 5.5). |\n",
    "| 3 | 20127088 | Nguyễn Thiện Hoàng Trí | Lựa chọn, phân tích dữ liệu, vẽ biểu đồ Scatterplot (thực hiện 5.3, 5.4). |\n",
    "| 4 | 20127288 | Nguyễn Nam Phương | Lựa chọn, phân tích dữ liệu, vẽ biểu đồ Donutchart, Histogram, Barchart (thực hiện 5.6, 5.7, 5.8).|\n",
    "| 5 | 20127603 | Ninh Trần Hoàng Quân | Lựa chọn, phân tích dữ liệu, vẽ biểu đồ Boxplot và kiểm định thống kê (thực hiện 5.9). |"
   ]
  },
  {
   "cell_type": "markdown",
   "metadata": {},
   "source": [
    "---"
   ]
  },
  {
   "cell_type": "markdown",
   "metadata": {},
   "source": [
    "# **2. Các thư viện sử dụng** <a name = \"section2\"></a>\n",
    "[Quay về mục lục](#TOC)"
   ]
  },
  {
   "cell_type": "code",
   "execution_count": 1,
   "metadata": {},
   "outputs": [],
   "source": [
    "import pandas as pd\n",
    "import re\n",
    "import numpy as np\n",
    "import matplotlib.pyplot as plt\n",
    "import seaborn as sns\n",
    "from sklearn.preprocessing import StandardScaler\n",
    "from matplotlib.lines import Line2D\n",
    "import statsmodels.api as sm\n",
    "import statistics\n",
    "sns.set()"
   ]
  },
  {
   "cell_type": "code",
   "execution_count": 2,
   "metadata": {},
   "outputs": [],
   "source": [
    "sns.set_style(\"whitegrid\")\n",
    "a2_dims = (23.4, 16.5)\n",
    "a3_dims = (16.5, 11.7)\n",
    "a4_dims = (11.7, 8.27)"
   ]
  },
  {
   "cell_type": "markdown",
   "metadata": {},
   "source": [
    "---"
   ]
  },
  {
   "cell_type": "markdown",
   "metadata": {},
   "source": [
    "# **3. Mô tả dữ liệu** <a name = \"section3\"></a>\n",
    "[Quay về mục lục](#TOC)"
   ]
  },
  {
   "cell_type": "markdown",
   "metadata": {},
   "source": [
    "Từ khoảng cuối năm 2019 và đầu năm 2020, một bệnh dịch hạch lan tràn khủng khiếp trên toàn \n",
    "thế giới. Mỗi ngày có hàng ngàn người bị nhiễm và hàng chục đến hàng trăm người chết. Tổ chức \n",
    "Worldometer [**(www.worldometers.info)**](https://www.worldometers.info/) đã thu thập dữ liệu thống kê từ nhiều nguồn và từ nhiều quốc \n",
    "gia báo cáo hàng ngày để tổng hợp thành một bảng trong Hình 1. Trong trang web, tổ chức \n",
    "Worldmeter cũng thực hiện vẽ biểu đồ để cho thấy sự thay đổi trực quan tình hình diễn biến dịch \n",
    "bệnh. "
   ]
  },
  {
   "cell_type": "markdown",
   "metadata": {},
   "source": [
    "---"
   ]
  },
  {
   "cell_type": "markdown",
   "metadata": {},
   "source": [
    "# **4. Xử lý dữ liệu** <a name = \"section4\"></a>\n",
    "[Quay về mục lục](#TOC)"
   ]
  },
  {
   "cell_type": "markdown",
   "metadata": {},
   "source": [
    "## 4.1. Đọc dữ liệu vào Dataframe <a name = \"section4_1\"></a>\n",
    "[Quay về mục lục](#TOC)"
   ]
  },
  {
   "cell_type": "code",
   "execution_count": 3,
   "metadata": {},
   "outputs": [
    {
     "data": {
      "text/html": [
       "<div>\n",
       "<style scoped>\n",
       "    .dataframe tbody tr th:only-of-type {\n",
       "        vertical-align: middle;\n",
       "    }\n",
       "\n",
       "    .dataframe tbody tr th {\n",
       "        vertical-align: top;\n",
       "    }\n",
       "\n",
       "    .dataframe thead th {\n",
       "        text-align: right;\n",
       "    }\n",
       "</style>\n",
       "<table border=\"1\" class=\"dataframe\">\n",
       "  <thead>\n",
       "    <tr style=\"text-align: right;\">\n",
       "      <th></th>\n",
       "      <th>country_other</th>\n",
       "      <th>totalcases</th>\n",
       "      <th>newcases</th>\n",
       "      <th>totaldeaths</th>\n",
       "      <th>newdeaths</th>\n",
       "      <th>totalrecovered</th>\n",
       "      <th>newrecovered</th>\n",
       "      <th>activecases</th>\n",
       "      <th>serious_critical</th>\n",
       "      <th>tot_cases_1m_pop</th>\n",
       "      <th>...</th>\n",
       "      <th>totaltests</th>\n",
       "      <th>tests_1m_pop</th>\n",
       "      <th>population</th>\n",
       "      <th>continent</th>\n",
       "      <th>1_caseevery_x_ppl</th>\n",
       "      <th>1_deathevery_x_ppl</th>\n",
       "      <th>1_testevery_x_ppl</th>\n",
       "      <th>new_cases_1m_pop</th>\n",
       "      <th>new_deaths_1m_pop</th>\n",
       "      <th>active_cases_1m_pop</th>\n",
       "    </tr>\n",
       "  </thead>\n",
       "  <tbody>\n",
       "    <tr>\n",
       "      <th>0</th>\n",
       "      <td>North America</td>\n",
       "      <td>124725126</td>\n",
       "      <td>NaN</td>\n",
       "      <td>1612592.0</td>\n",
       "      <td>NaN</td>\n",
       "      <td>120021937.0</td>\n",
       "      <td>1529.0</td>\n",
       "      <td>3090597.0</td>\n",
       "      <td>7892.0</td>\n",
       "      <td>NaN</td>\n",
       "      <td>...</td>\n",
       "      <td>NaN</td>\n",
       "      <td>NaN</td>\n",
       "      <td>NaN</td>\n",
       "      <td>North America</td>\n",
       "      <td>NaN</td>\n",
       "      <td>NaN</td>\n",
       "      <td>NaN</td>\n",
       "      <td>NaN</td>\n",
       "      <td>NaN</td>\n",
       "      <td>NaN</td>\n",
       "    </tr>\n",
       "    <tr>\n",
       "      <th>1</th>\n",
       "      <td>Asia</td>\n",
       "      <td>214494303</td>\n",
       "      <td>19555.0</td>\n",
       "      <td>1537456.0</td>\n",
       "      <td>125.0</td>\n",
       "      <td>199126511.0</td>\n",
       "      <td>17607.0</td>\n",
       "      <td>13830336.0</td>\n",
       "      <td>15479.0</td>\n",
       "      <td>NaN</td>\n",
       "      <td>...</td>\n",
       "      <td>NaN</td>\n",
       "      <td>NaN</td>\n",
       "      <td>NaN</td>\n",
       "      <td>Asia</td>\n",
       "      <td>NaN</td>\n",
       "      <td>NaN</td>\n",
       "      <td>NaN</td>\n",
       "      <td>NaN</td>\n",
       "      <td>NaN</td>\n",
       "      <td>NaN</td>\n",
       "    </tr>\n",
       "    <tr>\n",
       "      <th>2</th>\n",
       "      <td>Europe</td>\n",
       "      <td>246578283</td>\n",
       "      <td>18461.0</td>\n",
       "      <td>2019397.0</td>\n",
       "      <td>48.0</td>\n",
       "      <td>242121931.0</td>\n",
       "      <td>24102.0</td>\n",
       "      <td>2436955.0</td>\n",
       "      <td>6475.0</td>\n",
       "      <td>NaN</td>\n",
       "      <td>...</td>\n",
       "      <td>NaN</td>\n",
       "      <td>NaN</td>\n",
       "      <td>NaN</td>\n",
       "      <td>Europe</td>\n",
       "      <td>NaN</td>\n",
       "      <td>NaN</td>\n",
       "      <td>NaN</td>\n",
       "      <td>NaN</td>\n",
       "      <td>NaN</td>\n",
       "      <td>NaN</td>\n",
       "    </tr>\n",
       "    <tr>\n",
       "      <th>3</th>\n",
       "      <td>South America</td>\n",
       "      <td>68046073</td>\n",
       "      <td>167.0</td>\n",
       "      <td>1350933.0</td>\n",
       "      <td>8.0</td>\n",
       "      <td>66293956.0</td>\n",
       "      <td>111.0</td>\n",
       "      <td>401184.0</td>\n",
       "      <td>10185.0</td>\n",
       "      <td>NaN</td>\n",
       "      <td>...</td>\n",
       "      <td>NaN</td>\n",
       "      <td>NaN</td>\n",
       "      <td>NaN</td>\n",
       "      <td>South America</td>\n",
       "      <td>NaN</td>\n",
       "      <td>NaN</td>\n",
       "      <td>NaN</td>\n",
       "      <td>NaN</td>\n",
       "      <td>NaN</td>\n",
       "      <td>NaN</td>\n",
       "    </tr>\n",
       "    <tr>\n",
       "      <th>4</th>\n",
       "      <td>Oceania</td>\n",
       "      <td>14015805</td>\n",
       "      <td>NaN</td>\n",
       "      <td>26203.0</td>\n",
       "      <td>NaN</td>\n",
       "      <td>13852354.0</td>\n",
       "      <td>NaN</td>\n",
       "      <td>137248.0</td>\n",
       "      <td>55.0</td>\n",
       "      <td>NaN</td>\n",
       "      <td>...</td>\n",
       "      <td>NaN</td>\n",
       "      <td>NaN</td>\n",
       "      <td>NaN</td>\n",
       "      <td>Australia/Oceania</td>\n",
       "      <td>NaN</td>\n",
       "      <td>NaN</td>\n",
       "      <td>NaN</td>\n",
       "      <td>NaN</td>\n",
       "      <td>NaN</td>\n",
       "      <td>NaN</td>\n",
       "    </tr>\n",
       "  </tbody>\n",
       "</table>\n",
       "<p>5 rows × 21 columns</p>\n",
       "</div>"
      ],
      "text/plain": [
       "   country_other  totalcases  newcases  totaldeaths  newdeaths  \\\n",
       "0  North America   124725126       NaN    1612592.0        NaN   \n",
       "1           Asia   214494303   19555.0    1537456.0      125.0   \n",
       "2         Europe   246578283   18461.0    2019397.0       48.0   \n",
       "3  South America    68046073     167.0    1350933.0        8.0   \n",
       "4        Oceania    14015805       NaN      26203.0        NaN   \n",
       "\n",
       "   totalrecovered  newrecovered  activecases  serious_critical  \\\n",
       "0     120021937.0        1529.0    3090597.0            7892.0   \n",
       "1     199126511.0       17607.0   13830336.0           15479.0   \n",
       "2     242121931.0       24102.0    2436955.0            6475.0   \n",
       "3      66293956.0         111.0     401184.0           10185.0   \n",
       "4      13852354.0           NaN     137248.0              55.0   \n",
       "\n",
       "   tot_cases_1m_pop  ...  totaltests  tests_1m_pop  population  \\\n",
       "0               NaN  ...         NaN           NaN         NaN   \n",
       "1               NaN  ...         NaN           NaN         NaN   \n",
       "2               NaN  ...         NaN           NaN         NaN   \n",
       "3               NaN  ...         NaN           NaN         NaN   \n",
       "4               NaN  ...         NaN           NaN         NaN   \n",
       "\n",
       "           continent 1_caseevery_x_ppl  1_deathevery_x_ppl  1_testevery_x_ppl  \\\n",
       "0      North America               NaN                 NaN                NaN   \n",
       "1               Asia               NaN                 NaN                NaN   \n",
       "2             Europe               NaN                 NaN                NaN   \n",
       "3      South America               NaN                 NaN                NaN   \n",
       "4  Australia/Oceania               NaN                 NaN                NaN   \n",
       "\n",
       "   new_cases_1m_pop  new_deaths_1m_pop  active_cases_1m_pop  \n",
       "0               NaN                NaN                  NaN  \n",
       "1               NaN                NaN                  NaN  \n",
       "2               NaN                NaN                  NaN  \n",
       "3               NaN                NaN                  NaN  \n",
       "4               NaN                NaN                  NaN  \n",
       "\n",
       "[5 rows x 21 columns]"
      ]
     },
     "execution_count": 3,
     "metadata": {},
     "output_type": "execute_result"
    }
   ],
   "source": [
    "try:\n",
    "    covid19_df = pd.read_csv(\"covid19_05_03_2023.csv\", \n",
    "            usecols=lambda x: x != 'index'\n",
    "                )\n",
    "except:\n",
    "    covid19_df = pd.read_csv(\"covid19_05_03_2023.csv\")\n",
    "covid19_df.head()"
   ]
  },
  {
   "cell_type": "code",
   "execution_count": 4,
   "metadata": {},
   "outputs": [],
   "source": [
    "def preprocess(df):\n",
    "    df['country_other'] = df['country_other'].str.strip()\n",
    "    df = df[df['country_other']!='']\n",
    "    df_ = df.copy()\n",
    "    df_.replace(to_replace = r'\\D',value = '',regex=True,inplace = True)\n",
    "    df_.iloc[:,0] = df.iloc[:,0]\n",
    "    df_['continent'] = df['continent']\n",
    "    return df_"
   ]
  },
  {
   "cell_type": "code",
   "execution_count": 5,
   "metadata": {},
   "outputs": [
    {
     "data": {
      "text/html": [
       "<div>\n",
       "<style scoped>\n",
       "    .dataframe tbody tr th:only-of-type {\n",
       "        vertical-align: middle;\n",
       "    }\n",
       "\n",
       "    .dataframe tbody tr th {\n",
       "        vertical-align: top;\n",
       "    }\n",
       "\n",
       "    .dataframe thead th {\n",
       "        text-align: right;\n",
       "    }\n",
       "</style>\n",
       "<table border=\"1\" class=\"dataframe\">\n",
       "  <thead>\n",
       "    <tr style=\"text-align: right;\">\n",
       "      <th></th>\n",
       "      <th>country_other</th>\n",
       "      <th>totalcases</th>\n",
       "      <th>newcases</th>\n",
       "      <th>totaldeaths</th>\n",
       "      <th>newdeaths</th>\n",
       "      <th>totalrecovered</th>\n",
       "      <th>newrecovered</th>\n",
       "      <th>activecases</th>\n",
       "      <th>serious_critical</th>\n",
       "      <th>tot_cases_1m_pop</th>\n",
       "      <th>...</th>\n",
       "      <th>totaltests</th>\n",
       "      <th>tests_1m_pop</th>\n",
       "      <th>population</th>\n",
       "      <th>continent</th>\n",
       "      <th>1_caseevery_x_ppl</th>\n",
       "      <th>1_deathevery_x_ppl</th>\n",
       "      <th>1_testevery_x_ppl</th>\n",
       "      <th>new_cases_1m_pop</th>\n",
       "      <th>new_deaths_1m_pop</th>\n",
       "      <th>active_cases_1m_pop</th>\n",
       "    </tr>\n",
       "  </thead>\n",
       "  <tbody>\n",
       "    <tr>\n",
       "      <th>0</th>\n",
       "      <td>North America</td>\n",
       "      <td>124725126</td>\n",
       "      <td>NaN</td>\n",
       "      <td>1612592.0</td>\n",
       "      <td>NaN</td>\n",
       "      <td>120021937.0</td>\n",
       "      <td>1529.0</td>\n",
       "      <td>3090597.0</td>\n",
       "      <td>7892.0</td>\n",
       "      <td>NaN</td>\n",
       "      <td>...</td>\n",
       "      <td>NaN</td>\n",
       "      <td>NaN</td>\n",
       "      <td>NaN</td>\n",
       "      <td>North America</td>\n",
       "      <td>NaN</td>\n",
       "      <td>NaN</td>\n",
       "      <td>NaN</td>\n",
       "      <td>NaN</td>\n",
       "      <td>NaN</td>\n",
       "      <td>NaN</td>\n",
       "    </tr>\n",
       "    <tr>\n",
       "      <th>1</th>\n",
       "      <td>Asia</td>\n",
       "      <td>214494303</td>\n",
       "      <td>19555.0</td>\n",
       "      <td>1537456.0</td>\n",
       "      <td>125.0</td>\n",
       "      <td>199126511.0</td>\n",
       "      <td>17607.0</td>\n",
       "      <td>13830336.0</td>\n",
       "      <td>15479.0</td>\n",
       "      <td>NaN</td>\n",
       "      <td>...</td>\n",
       "      <td>NaN</td>\n",
       "      <td>NaN</td>\n",
       "      <td>NaN</td>\n",
       "      <td>Asia</td>\n",
       "      <td>NaN</td>\n",
       "      <td>NaN</td>\n",
       "      <td>NaN</td>\n",
       "      <td>NaN</td>\n",
       "      <td>NaN</td>\n",
       "      <td>NaN</td>\n",
       "    </tr>\n",
       "    <tr>\n",
       "      <th>2</th>\n",
       "      <td>Europe</td>\n",
       "      <td>246578283</td>\n",
       "      <td>18461.0</td>\n",
       "      <td>2019397.0</td>\n",
       "      <td>48.0</td>\n",
       "      <td>242121931.0</td>\n",
       "      <td>24102.0</td>\n",
       "      <td>2436955.0</td>\n",
       "      <td>6475.0</td>\n",
       "      <td>NaN</td>\n",
       "      <td>...</td>\n",
       "      <td>NaN</td>\n",
       "      <td>NaN</td>\n",
       "      <td>NaN</td>\n",
       "      <td>Europe</td>\n",
       "      <td>NaN</td>\n",
       "      <td>NaN</td>\n",
       "      <td>NaN</td>\n",
       "      <td>NaN</td>\n",
       "      <td>NaN</td>\n",
       "      <td>NaN</td>\n",
       "    </tr>\n",
       "    <tr>\n",
       "      <th>3</th>\n",
       "      <td>South America</td>\n",
       "      <td>68046073</td>\n",
       "      <td>167.0</td>\n",
       "      <td>1350933.0</td>\n",
       "      <td>8.0</td>\n",
       "      <td>66293956.0</td>\n",
       "      <td>111.0</td>\n",
       "      <td>401184.0</td>\n",
       "      <td>10185.0</td>\n",
       "      <td>NaN</td>\n",
       "      <td>...</td>\n",
       "      <td>NaN</td>\n",
       "      <td>NaN</td>\n",
       "      <td>NaN</td>\n",
       "      <td>South America</td>\n",
       "      <td>NaN</td>\n",
       "      <td>NaN</td>\n",
       "      <td>NaN</td>\n",
       "      <td>NaN</td>\n",
       "      <td>NaN</td>\n",
       "      <td>NaN</td>\n",
       "    </tr>\n",
       "    <tr>\n",
       "      <th>4</th>\n",
       "      <td>Oceania</td>\n",
       "      <td>14015805</td>\n",
       "      <td>NaN</td>\n",
       "      <td>26203.0</td>\n",
       "      <td>NaN</td>\n",
       "      <td>13852354.0</td>\n",
       "      <td>NaN</td>\n",
       "      <td>137248.0</td>\n",
       "      <td>55.0</td>\n",
       "      <td>NaN</td>\n",
       "      <td>...</td>\n",
       "      <td>NaN</td>\n",
       "      <td>NaN</td>\n",
       "      <td>NaN</td>\n",
       "      <td>Australia/Oceania</td>\n",
       "      <td>NaN</td>\n",
       "      <td>NaN</td>\n",
       "      <td>NaN</td>\n",
       "      <td>NaN</td>\n",
       "      <td>NaN</td>\n",
       "      <td>NaN</td>\n",
       "    </tr>\n",
       "  </tbody>\n",
       "</table>\n",
       "<p>5 rows × 21 columns</p>\n",
       "</div>"
      ],
      "text/plain": [
       "   country_other  totalcases  newcases  totaldeaths  newdeaths  \\\n",
       "0  North America   124725126       NaN    1612592.0        NaN   \n",
       "1           Asia   214494303   19555.0    1537456.0      125.0   \n",
       "2         Europe   246578283   18461.0    2019397.0       48.0   \n",
       "3  South America    68046073     167.0    1350933.0        8.0   \n",
       "4        Oceania    14015805       NaN      26203.0        NaN   \n",
       "\n",
       "   totalrecovered  newrecovered  activecases  serious_critical  \\\n",
       "0     120021937.0        1529.0    3090597.0            7892.0   \n",
       "1     199126511.0       17607.0   13830336.0           15479.0   \n",
       "2     242121931.0       24102.0    2436955.0            6475.0   \n",
       "3      66293956.0         111.0     401184.0           10185.0   \n",
       "4      13852354.0           NaN     137248.0              55.0   \n",
       "\n",
       "   tot_cases_1m_pop  ...  totaltests  tests_1m_pop  population  \\\n",
       "0               NaN  ...         NaN           NaN         NaN   \n",
       "1               NaN  ...         NaN           NaN         NaN   \n",
       "2               NaN  ...         NaN           NaN         NaN   \n",
       "3               NaN  ...         NaN           NaN         NaN   \n",
       "4               NaN  ...         NaN           NaN         NaN   \n",
       "\n",
       "           continent 1_caseevery_x_ppl  1_deathevery_x_ppl  1_testevery_x_ppl  \\\n",
       "0      North America               NaN                 NaN                NaN   \n",
       "1               Asia               NaN                 NaN                NaN   \n",
       "2             Europe               NaN                 NaN                NaN   \n",
       "3      South America               NaN                 NaN                NaN   \n",
       "4  Australia/Oceania               NaN                 NaN                NaN   \n",
       "\n",
       "   new_cases_1m_pop  new_deaths_1m_pop  active_cases_1m_pop  \n",
       "0               NaN                NaN                  NaN  \n",
       "1               NaN                NaN                  NaN  \n",
       "2               NaN                NaN                  NaN  \n",
       "3               NaN                NaN                  NaN  \n",
       "4               NaN                NaN                  NaN  \n",
       "\n",
       "[5 rows x 21 columns]"
      ]
     },
     "execution_count": 5,
     "metadata": {},
     "output_type": "execute_result"
    }
   ],
   "source": [
    "try :\n",
    "    covid19_df = preprocess(covid19_df)\n",
    "    covid19_df.to_csv('covid19_05_03_2023.csv', index=False)\n",
    "    covid19_df = pd.read_csv('covid19_05_03_2023.csv')\n",
    "except:\n",
    "    pass\n",
    "covid19_df.head()"
   ]
  },
  {
   "cell_type": "markdown",
   "metadata": {},
   "source": [
    "## 4.2. Số dòng và số cột của tập dữ liệu <a name = \"section4_2\"></a>\n",
    "[Quay về mục lục](#TOC)"
   ]
  },
  {
   "cell_type": "code",
   "execution_count": 6,
   "metadata": {},
   "outputs": [
    {
     "name": "stdout",
     "output_type": "stream",
     "text": [
      "Số dòng: 246\n",
      "Số cột 21\n"
     ]
    },
    {
     "data": {
      "text/html": [
       "<div>\n",
       "<style scoped>\n",
       "    .dataframe tbody tr th:only-of-type {\n",
       "        vertical-align: middle;\n",
       "    }\n",
       "\n",
       "    .dataframe tbody tr th {\n",
       "        vertical-align: top;\n",
       "    }\n",
       "\n",
       "    .dataframe thead th {\n",
       "        text-align: right;\n",
       "    }\n",
       "</style>\n",
       "<table border=\"1\" class=\"dataframe\">\n",
       "  <thead>\n",
       "    <tr style=\"text-align: right;\">\n",
       "      <th></th>\n",
       "      <th>country_other</th>\n",
       "      <th>totalcases</th>\n",
       "      <th>newcases</th>\n",
       "      <th>totaldeaths</th>\n",
       "      <th>newdeaths</th>\n",
       "      <th>totalrecovered</th>\n",
       "      <th>newrecovered</th>\n",
       "      <th>activecases</th>\n",
       "      <th>serious_critical</th>\n",
       "      <th>tot_cases_1m_pop</th>\n",
       "      <th>...</th>\n",
       "      <th>totaltests</th>\n",
       "      <th>tests_1m_pop</th>\n",
       "      <th>population</th>\n",
       "      <th>continent</th>\n",
       "      <th>1_caseevery_x_ppl</th>\n",
       "      <th>1_deathevery_x_ppl</th>\n",
       "      <th>1_testevery_x_ppl</th>\n",
       "      <th>new_cases_1m_pop</th>\n",
       "      <th>new_deaths_1m_pop</th>\n",
       "      <th>active_cases_1m_pop</th>\n",
       "    </tr>\n",
       "  </thead>\n",
       "  <tbody>\n",
       "    <tr>\n",
       "      <th>0</th>\n",
       "      <td>North America</td>\n",
       "      <td>124725126</td>\n",
       "      <td>NaN</td>\n",
       "      <td>1612592.0</td>\n",
       "      <td>NaN</td>\n",
       "      <td>120021937.0</td>\n",
       "      <td>1529.0</td>\n",
       "      <td>3090597.0</td>\n",
       "      <td>7892.0</td>\n",
       "      <td>NaN</td>\n",
       "      <td>...</td>\n",
       "      <td>NaN</td>\n",
       "      <td>NaN</td>\n",
       "      <td>NaN</td>\n",
       "      <td>North America</td>\n",
       "      <td>NaN</td>\n",
       "      <td>NaN</td>\n",
       "      <td>NaN</td>\n",
       "      <td>NaN</td>\n",
       "      <td>NaN</td>\n",
       "      <td>NaN</td>\n",
       "    </tr>\n",
       "    <tr>\n",
       "      <th>1</th>\n",
       "      <td>Asia</td>\n",
       "      <td>214494303</td>\n",
       "      <td>19555.0</td>\n",
       "      <td>1537456.0</td>\n",
       "      <td>125.0</td>\n",
       "      <td>199126511.0</td>\n",
       "      <td>17607.0</td>\n",
       "      <td>13830336.0</td>\n",
       "      <td>15479.0</td>\n",
       "      <td>NaN</td>\n",
       "      <td>...</td>\n",
       "      <td>NaN</td>\n",
       "      <td>NaN</td>\n",
       "      <td>NaN</td>\n",
       "      <td>Asia</td>\n",
       "      <td>NaN</td>\n",
       "      <td>NaN</td>\n",
       "      <td>NaN</td>\n",
       "      <td>NaN</td>\n",
       "      <td>NaN</td>\n",
       "      <td>NaN</td>\n",
       "    </tr>\n",
       "    <tr>\n",
       "      <th>2</th>\n",
       "      <td>Europe</td>\n",
       "      <td>246578283</td>\n",
       "      <td>18461.0</td>\n",
       "      <td>2019397.0</td>\n",
       "      <td>48.0</td>\n",
       "      <td>242121931.0</td>\n",
       "      <td>24102.0</td>\n",
       "      <td>2436955.0</td>\n",
       "      <td>6475.0</td>\n",
       "      <td>NaN</td>\n",
       "      <td>...</td>\n",
       "      <td>NaN</td>\n",
       "      <td>NaN</td>\n",
       "      <td>NaN</td>\n",
       "      <td>Europe</td>\n",
       "      <td>NaN</td>\n",
       "      <td>NaN</td>\n",
       "      <td>NaN</td>\n",
       "      <td>NaN</td>\n",
       "      <td>NaN</td>\n",
       "      <td>NaN</td>\n",
       "    </tr>\n",
       "    <tr>\n",
       "      <th>3</th>\n",
       "      <td>South America</td>\n",
       "      <td>68046073</td>\n",
       "      <td>167.0</td>\n",
       "      <td>1350933.0</td>\n",
       "      <td>8.0</td>\n",
       "      <td>66293956.0</td>\n",
       "      <td>111.0</td>\n",
       "      <td>401184.0</td>\n",
       "      <td>10185.0</td>\n",
       "      <td>NaN</td>\n",
       "      <td>...</td>\n",
       "      <td>NaN</td>\n",
       "      <td>NaN</td>\n",
       "      <td>NaN</td>\n",
       "      <td>South America</td>\n",
       "      <td>NaN</td>\n",
       "      <td>NaN</td>\n",
       "      <td>NaN</td>\n",
       "      <td>NaN</td>\n",
       "      <td>NaN</td>\n",
       "      <td>NaN</td>\n",
       "    </tr>\n",
       "    <tr>\n",
       "      <th>4</th>\n",
       "      <td>Oceania</td>\n",
       "      <td>14015805</td>\n",
       "      <td>NaN</td>\n",
       "      <td>26203.0</td>\n",
       "      <td>NaN</td>\n",
       "      <td>13852354.0</td>\n",
       "      <td>NaN</td>\n",
       "      <td>137248.0</td>\n",
       "      <td>55.0</td>\n",
       "      <td>NaN</td>\n",
       "      <td>...</td>\n",
       "      <td>NaN</td>\n",
       "      <td>NaN</td>\n",
       "      <td>NaN</td>\n",
       "      <td>Australia/Oceania</td>\n",
       "      <td>NaN</td>\n",
       "      <td>NaN</td>\n",
       "      <td>NaN</td>\n",
       "      <td>NaN</td>\n",
       "      <td>NaN</td>\n",
       "      <td>NaN</td>\n",
       "    </tr>\n",
       "  </tbody>\n",
       "</table>\n",
       "<p>5 rows × 21 columns</p>\n",
       "</div>"
      ],
      "text/plain": [
       "   country_other  totalcases  newcases  totaldeaths  newdeaths  \\\n",
       "0  North America   124725126       NaN    1612592.0        NaN   \n",
       "1           Asia   214494303   19555.0    1537456.0      125.0   \n",
       "2         Europe   246578283   18461.0    2019397.0       48.0   \n",
       "3  South America    68046073     167.0    1350933.0        8.0   \n",
       "4        Oceania    14015805       NaN      26203.0        NaN   \n",
       "\n",
       "   totalrecovered  newrecovered  activecases  serious_critical  \\\n",
       "0     120021937.0        1529.0    3090597.0            7892.0   \n",
       "1     199126511.0       17607.0   13830336.0           15479.0   \n",
       "2     242121931.0       24102.0    2436955.0            6475.0   \n",
       "3      66293956.0         111.0     401184.0           10185.0   \n",
       "4      13852354.0           NaN     137248.0              55.0   \n",
       "\n",
       "   tot_cases_1m_pop  ...  totaltests  tests_1m_pop  population  \\\n",
       "0               NaN  ...         NaN           NaN         NaN   \n",
       "1               NaN  ...         NaN           NaN         NaN   \n",
       "2               NaN  ...         NaN           NaN         NaN   \n",
       "3               NaN  ...         NaN           NaN         NaN   \n",
       "4               NaN  ...         NaN           NaN         NaN   \n",
       "\n",
       "           continent 1_caseevery_x_ppl  1_deathevery_x_ppl  1_testevery_x_ppl  \\\n",
       "0      North America               NaN                 NaN                NaN   \n",
       "1               Asia               NaN                 NaN                NaN   \n",
       "2             Europe               NaN                 NaN                NaN   \n",
       "3      South America               NaN                 NaN                NaN   \n",
       "4  Australia/Oceania               NaN                 NaN                NaN   \n",
       "\n",
       "   new_cases_1m_pop  new_deaths_1m_pop  active_cases_1m_pop  \n",
       "0               NaN                NaN                  NaN  \n",
       "1               NaN                NaN                  NaN  \n",
       "2               NaN                NaN                  NaN  \n",
       "3               NaN                NaN                  NaN  \n",
       "4               NaN                NaN                  NaN  \n",
       "\n",
       "[5 rows x 21 columns]"
      ]
     },
     "execution_count": 6,
     "metadata": {},
     "output_type": "execute_result"
    }
   ],
   "source": [
    "row = covid19_df.shape[0]\n",
    "col = covid19_df.shape[1]\n",
    "print('Số dòng:', row)\n",
    "print('Số cột', col)\n",
    "covid19_df.head()"
   ]
  },
  {
   "cell_type": "markdown",
   "metadata": {},
   "source": [
    "## 4.3. Ý nghĩa của mỗi dòng <a name = \"section4_3\"></a>\n",
    "[Quay về mục lục](#TOC)"
   ]
  },
  {
   "cell_type": "markdown",
   "metadata": {},
   "source": [
    "Mỗi dòng là thông tin của một nước về tổng số ca, số ca tử vong, đang điều trị và hồi phục."
   ]
  },
  {
   "cell_type": "markdown",
   "metadata": {},
   "source": [
    "## 4.4. Kiểm tra các dòng bị trùng lắp <a name = \"section4_4\"></a>\n",
    "[Quay về mục lục](#TOC)"
   ]
  },
  {
   "cell_type": "code",
   "execution_count": 7,
   "metadata": {},
   "outputs": [
    {
     "data": {
      "text/html": [
       "<div>\n",
       "<style scoped>\n",
       "    .dataframe tbody tr th:only-of-type {\n",
       "        vertical-align: middle;\n",
       "    }\n",
       "\n",
       "    .dataframe tbody tr th {\n",
       "        vertical-align: top;\n",
       "    }\n",
       "\n",
       "    .dataframe thead th {\n",
       "        text-align: right;\n",
       "    }\n",
       "</style>\n",
       "<table border=\"1\" class=\"dataframe\">\n",
       "  <thead>\n",
       "    <tr style=\"text-align: right;\">\n",
       "      <th></th>\n",
       "      <th>country_other</th>\n",
       "      <th>totalcases</th>\n",
       "      <th>newcases</th>\n",
       "      <th>totaldeaths</th>\n",
       "      <th>newdeaths</th>\n",
       "      <th>totalrecovered</th>\n",
       "      <th>newrecovered</th>\n",
       "      <th>activecases</th>\n",
       "      <th>serious_critical</th>\n",
       "      <th>tot_cases_1m_pop</th>\n",
       "      <th>...</th>\n",
       "      <th>totaltests</th>\n",
       "      <th>tests_1m_pop</th>\n",
       "      <th>population</th>\n",
       "      <th>continent</th>\n",
       "      <th>1_caseevery_x_ppl</th>\n",
       "      <th>1_deathevery_x_ppl</th>\n",
       "      <th>1_testevery_x_ppl</th>\n",
       "      <th>new_cases_1m_pop</th>\n",
       "      <th>new_deaths_1m_pop</th>\n",
       "      <th>active_cases_1m_pop</th>\n",
       "    </tr>\n",
       "  </thead>\n",
       "  <tbody>\n",
       "  </tbody>\n",
       "</table>\n",
       "<p>0 rows × 21 columns</p>\n",
       "</div>"
      ],
      "text/plain": [
       "Empty DataFrame\n",
       "Columns: [country_other, totalcases, newcases, totaldeaths, newdeaths, totalrecovered, newrecovered, activecases, serious_critical, tot_cases_1m_pop, deaths_1m_pop, totaltests, tests_1m_pop, population, continent, 1_caseevery_x_ppl, 1_deathevery_x_ppl, 1_testevery_x_ppl, new_cases_1m_pop, new_deaths_1m_pop, active_cases_1m_pop]\n",
       "Index: []\n",
       "\n",
       "[0 rows x 21 columns]"
      ]
     },
     "execution_count": 7,
     "metadata": {},
     "output_type": "execute_result"
    }
   ],
   "source": [
    "duplicated = covid19_df.duplicated()\n",
    "pd.DataFrame(covid19_df[duplicated==True])"
   ]
  },
  {
   "cell_type": "markdown",
   "metadata": {},
   "source": [
    "## 4.5. Ý nghĩa của mỗi cột <a name = \"section4_5\"></a>\n",
    "[Quay về mục lục](#TOC)"
   ]
  },
  {
   "cell_type": "code",
   "execution_count": 8,
   "metadata": {},
   "outputs": [
    {
     "ename": "FileNotFoundError",
     "evalue": "[Errno 2] No such file or directory: 'description.csv'",
     "output_type": "error",
     "traceback": [
      "\u001b[0;31m---------------------------------------------------------------------------\u001b[0m",
      "\u001b[0;31mFileNotFoundError\u001b[0m                         Traceback (most recent call last)",
      "Cell \u001b[0;32mIn [8], line 1\u001b[0m\n\u001b[0;32m----> 1\u001b[0m des_df \u001b[38;5;241m=\u001b[39m \u001b[43mpd\u001b[49m\u001b[38;5;241;43m.\u001b[39;49m\u001b[43mread_csv\u001b[49m\u001b[43m(\u001b[49m\u001b[38;5;124;43m'\u001b[39;49m\u001b[38;5;124;43mdescription.csv\u001b[39;49m\u001b[38;5;124;43m'\u001b[39;49m\u001b[43m,\u001b[49m\u001b[43m \u001b[49m\u001b[43mencoding\u001b[49m\u001b[38;5;241;43m=\u001b[39;49m\u001b[38;5;124;43m'\u001b[39;49m\u001b[38;5;124;43mutf-8\u001b[39;49m\u001b[38;5;124;43m'\u001b[39;49m\u001b[43m)\u001b[49m\n\u001b[1;32m      2\u001b[0m pd\u001b[38;5;241m.\u001b[39mset_option(\u001b[38;5;124m'\u001b[39m\u001b[38;5;124mdisplay.max_colwidth\u001b[39m\u001b[38;5;124m'\u001b[39m, \u001b[38;5;28;01mNone\u001b[39;00m)\n\u001b[1;32m      3\u001b[0m des_df\n",
      "File \u001b[0;32m~/miniconda3/envs/min_ds-env/lib/python3.8/site-packages/pandas/io/parsers.py:610\u001b[0m, in \u001b[0;36mread_csv\u001b[0;34m(filepath_or_buffer, sep, delimiter, header, names, index_col, usecols, squeeze, prefix, mangle_dupe_cols, dtype, engine, converters, true_values, false_values, skipinitialspace, skiprows, skipfooter, nrows, na_values, keep_default_na, na_filter, verbose, skip_blank_lines, parse_dates, infer_datetime_format, keep_date_col, date_parser, dayfirst, cache_dates, iterator, chunksize, compression, thousands, decimal, lineterminator, quotechar, quoting, doublequote, escapechar, comment, encoding, dialect, error_bad_lines, warn_bad_lines, delim_whitespace, low_memory, memory_map, float_precision, storage_options)\u001b[0m\n\u001b[1;32m    605\u001b[0m kwds_defaults \u001b[38;5;241m=\u001b[39m _refine_defaults_read(\n\u001b[1;32m    606\u001b[0m     dialect, delimiter, delim_whitespace, engine, sep, defaults\u001b[38;5;241m=\u001b[39m{\u001b[38;5;124m\"\u001b[39m\u001b[38;5;124mdelimiter\u001b[39m\u001b[38;5;124m\"\u001b[39m: \u001b[38;5;124m\"\u001b[39m\u001b[38;5;124m,\u001b[39m\u001b[38;5;124m\"\u001b[39m}\n\u001b[1;32m    607\u001b[0m )\n\u001b[1;32m    608\u001b[0m kwds\u001b[38;5;241m.\u001b[39mupdate(kwds_defaults)\n\u001b[0;32m--> 610\u001b[0m \u001b[38;5;28;01mreturn\u001b[39;00m \u001b[43m_read\u001b[49m\u001b[43m(\u001b[49m\u001b[43mfilepath_or_buffer\u001b[49m\u001b[43m,\u001b[49m\u001b[43m \u001b[49m\u001b[43mkwds\u001b[49m\u001b[43m)\u001b[49m\n",
      "File \u001b[0;32m~/miniconda3/envs/min_ds-env/lib/python3.8/site-packages/pandas/io/parsers.py:462\u001b[0m, in \u001b[0;36m_read\u001b[0;34m(filepath_or_buffer, kwds)\u001b[0m\n\u001b[1;32m    459\u001b[0m _validate_names(kwds\u001b[38;5;241m.\u001b[39mget(\u001b[38;5;124m\"\u001b[39m\u001b[38;5;124mnames\u001b[39m\u001b[38;5;124m\"\u001b[39m, \u001b[38;5;28;01mNone\u001b[39;00m))\n\u001b[1;32m    461\u001b[0m \u001b[38;5;66;03m# Create the parser.\u001b[39;00m\n\u001b[0;32m--> 462\u001b[0m parser \u001b[38;5;241m=\u001b[39m \u001b[43mTextFileReader\u001b[49m\u001b[43m(\u001b[49m\u001b[43mfilepath_or_buffer\u001b[49m\u001b[43m,\u001b[49m\u001b[43m \u001b[49m\u001b[38;5;241;43m*\u001b[39;49m\u001b[38;5;241;43m*\u001b[39;49m\u001b[43mkwds\u001b[49m\u001b[43m)\u001b[49m\n\u001b[1;32m    464\u001b[0m \u001b[38;5;28;01mif\u001b[39;00m chunksize \u001b[38;5;129;01mor\u001b[39;00m iterator:\n\u001b[1;32m    465\u001b[0m     \u001b[38;5;28;01mreturn\u001b[39;00m parser\n",
      "File \u001b[0;32m~/miniconda3/envs/min_ds-env/lib/python3.8/site-packages/pandas/io/parsers.py:819\u001b[0m, in \u001b[0;36mTextFileReader.__init__\u001b[0;34m(self, f, engine, **kwds)\u001b[0m\n\u001b[1;32m    816\u001b[0m \u001b[38;5;28;01mif\u001b[39;00m \u001b[38;5;124m\"\u001b[39m\u001b[38;5;124mhas_index_names\u001b[39m\u001b[38;5;124m\"\u001b[39m \u001b[38;5;129;01min\u001b[39;00m kwds:\n\u001b[1;32m    817\u001b[0m     \u001b[38;5;28mself\u001b[39m\u001b[38;5;241m.\u001b[39moptions[\u001b[38;5;124m\"\u001b[39m\u001b[38;5;124mhas_index_names\u001b[39m\u001b[38;5;124m\"\u001b[39m] \u001b[38;5;241m=\u001b[39m kwds[\u001b[38;5;124m\"\u001b[39m\u001b[38;5;124mhas_index_names\u001b[39m\u001b[38;5;124m\"\u001b[39m]\n\u001b[0;32m--> 819\u001b[0m \u001b[38;5;28mself\u001b[39m\u001b[38;5;241m.\u001b[39m_engine \u001b[38;5;241m=\u001b[39m \u001b[38;5;28;43mself\u001b[39;49m\u001b[38;5;241;43m.\u001b[39;49m\u001b[43m_make_engine\u001b[49m\u001b[43m(\u001b[49m\u001b[38;5;28;43mself\u001b[39;49m\u001b[38;5;241;43m.\u001b[39;49m\u001b[43mengine\u001b[49m\u001b[43m)\u001b[49m\n",
      "File \u001b[0;32m~/miniconda3/envs/min_ds-env/lib/python3.8/site-packages/pandas/io/parsers.py:1050\u001b[0m, in \u001b[0;36mTextFileReader._make_engine\u001b[0;34m(self, engine)\u001b[0m\n\u001b[1;32m   1046\u001b[0m     \u001b[38;5;28;01mraise\u001b[39;00m \u001b[38;5;167;01mValueError\u001b[39;00m(\n\u001b[1;32m   1047\u001b[0m         \u001b[38;5;124mf\u001b[39m\u001b[38;5;124m\"\u001b[39m\u001b[38;5;124mUnknown engine: \u001b[39m\u001b[38;5;132;01m{\u001b[39;00mengine\u001b[38;5;132;01m}\u001b[39;00m\u001b[38;5;124m (valid options are \u001b[39m\u001b[38;5;132;01m{\u001b[39;00mmapping\u001b[38;5;241m.\u001b[39mkeys()\u001b[38;5;132;01m}\u001b[39;00m\u001b[38;5;124m)\u001b[39m\u001b[38;5;124m\"\u001b[39m\n\u001b[1;32m   1048\u001b[0m     )\n\u001b[1;32m   1049\u001b[0m \u001b[38;5;66;03m# error: Too many arguments for \"ParserBase\"\u001b[39;00m\n\u001b[0;32m-> 1050\u001b[0m \u001b[38;5;28;01mreturn\u001b[39;00m \u001b[43mmapping\u001b[49m\u001b[43m[\u001b[49m\u001b[43mengine\u001b[49m\u001b[43m]\u001b[49m\u001b[43m(\u001b[49m\u001b[38;5;28;43mself\u001b[39;49m\u001b[38;5;241;43m.\u001b[39;49m\u001b[43mf\u001b[49m\u001b[43m,\u001b[49m\u001b[43m \u001b[49m\u001b[38;5;241;43m*\u001b[39;49m\u001b[38;5;241;43m*\u001b[39;49m\u001b[38;5;28;43mself\u001b[39;49m\u001b[38;5;241;43m.\u001b[39;49m\u001b[43moptions\u001b[49m\u001b[43m)\u001b[49m\n",
      "File \u001b[0;32m~/miniconda3/envs/min_ds-env/lib/python3.8/site-packages/pandas/io/parsers.py:1867\u001b[0m, in \u001b[0;36mCParserWrapper.__init__\u001b[0;34m(self, src, **kwds)\u001b[0m\n\u001b[1;32m   1864\u001b[0m kwds[\u001b[38;5;124m\"\u001b[39m\u001b[38;5;124musecols\u001b[39m\u001b[38;5;124m\"\u001b[39m] \u001b[38;5;241m=\u001b[39m \u001b[38;5;28mself\u001b[39m\u001b[38;5;241m.\u001b[39musecols\n\u001b[1;32m   1866\u001b[0m \u001b[38;5;66;03m# open handles\u001b[39;00m\n\u001b[0;32m-> 1867\u001b[0m \u001b[38;5;28;43mself\u001b[39;49m\u001b[38;5;241;43m.\u001b[39;49m\u001b[43m_open_handles\u001b[49m\u001b[43m(\u001b[49m\u001b[43msrc\u001b[49m\u001b[43m,\u001b[49m\u001b[43m \u001b[49m\u001b[43mkwds\u001b[49m\u001b[43m)\u001b[49m\n\u001b[1;32m   1868\u001b[0m \u001b[38;5;28;01massert\u001b[39;00m \u001b[38;5;28mself\u001b[39m\u001b[38;5;241m.\u001b[39mhandles \u001b[38;5;129;01mis\u001b[39;00m \u001b[38;5;129;01mnot\u001b[39;00m \u001b[38;5;28;01mNone\u001b[39;00m\n\u001b[1;32m   1869\u001b[0m \u001b[38;5;28;01mfor\u001b[39;00m key \u001b[38;5;129;01min\u001b[39;00m (\u001b[38;5;124m\"\u001b[39m\u001b[38;5;124mstorage_options\u001b[39m\u001b[38;5;124m\"\u001b[39m, \u001b[38;5;124m\"\u001b[39m\u001b[38;5;124mencoding\u001b[39m\u001b[38;5;124m\"\u001b[39m, \u001b[38;5;124m\"\u001b[39m\u001b[38;5;124mmemory_map\u001b[39m\u001b[38;5;124m\"\u001b[39m, \u001b[38;5;124m\"\u001b[39m\u001b[38;5;124mcompression\u001b[39m\u001b[38;5;124m\"\u001b[39m):\n",
      "File \u001b[0;32m~/miniconda3/envs/min_ds-env/lib/python3.8/site-packages/pandas/io/parsers.py:1362\u001b[0m, in \u001b[0;36mParserBase._open_handles\u001b[0;34m(self, src, kwds)\u001b[0m\n\u001b[1;32m   1358\u001b[0m \u001b[38;5;28;01mdef\u001b[39;00m \u001b[38;5;21m_open_handles\u001b[39m(\u001b[38;5;28mself\u001b[39m, src: FilePathOrBuffer, kwds: Dict[\u001b[38;5;28mstr\u001b[39m, Any]) \u001b[38;5;241m-\u001b[39m\u001b[38;5;241m>\u001b[39m \u001b[38;5;28;01mNone\u001b[39;00m:\n\u001b[1;32m   1359\u001b[0m     \u001b[38;5;124;03m\"\"\"\u001b[39;00m\n\u001b[1;32m   1360\u001b[0m \u001b[38;5;124;03m    Let the readers open IOHanldes after they are done with their potential raises.\u001b[39;00m\n\u001b[1;32m   1361\u001b[0m \u001b[38;5;124;03m    \"\"\"\u001b[39;00m\n\u001b[0;32m-> 1362\u001b[0m     \u001b[38;5;28mself\u001b[39m\u001b[38;5;241m.\u001b[39mhandles \u001b[38;5;241m=\u001b[39m \u001b[43mget_handle\u001b[49m\u001b[43m(\u001b[49m\n\u001b[1;32m   1363\u001b[0m \u001b[43m        \u001b[49m\u001b[43msrc\u001b[49m\u001b[43m,\u001b[49m\n\u001b[1;32m   1364\u001b[0m \u001b[43m        \u001b[49m\u001b[38;5;124;43m\"\u001b[39;49m\u001b[38;5;124;43mr\u001b[39;49m\u001b[38;5;124;43m\"\u001b[39;49m\u001b[43m,\u001b[49m\n\u001b[1;32m   1365\u001b[0m \u001b[43m        \u001b[49m\u001b[43mencoding\u001b[49m\u001b[38;5;241;43m=\u001b[39;49m\u001b[43mkwds\u001b[49m\u001b[38;5;241;43m.\u001b[39;49m\u001b[43mget\u001b[49m\u001b[43m(\u001b[49m\u001b[38;5;124;43m\"\u001b[39;49m\u001b[38;5;124;43mencoding\u001b[39;49m\u001b[38;5;124;43m\"\u001b[39;49m\u001b[43m,\u001b[49m\u001b[43m \u001b[49m\u001b[38;5;28;43;01mNone\u001b[39;49;00m\u001b[43m)\u001b[49m\u001b[43m,\u001b[49m\n\u001b[1;32m   1366\u001b[0m \u001b[43m        \u001b[49m\u001b[43mcompression\u001b[49m\u001b[38;5;241;43m=\u001b[39;49m\u001b[43mkwds\u001b[49m\u001b[38;5;241;43m.\u001b[39;49m\u001b[43mget\u001b[49m\u001b[43m(\u001b[49m\u001b[38;5;124;43m\"\u001b[39;49m\u001b[38;5;124;43mcompression\u001b[39;49m\u001b[38;5;124;43m\"\u001b[39;49m\u001b[43m,\u001b[49m\u001b[43m \u001b[49m\u001b[38;5;28;43;01mNone\u001b[39;49;00m\u001b[43m)\u001b[49m\u001b[43m,\u001b[49m\n\u001b[1;32m   1367\u001b[0m \u001b[43m        \u001b[49m\u001b[43mmemory_map\u001b[49m\u001b[38;5;241;43m=\u001b[39;49m\u001b[43mkwds\u001b[49m\u001b[38;5;241;43m.\u001b[39;49m\u001b[43mget\u001b[49m\u001b[43m(\u001b[49m\u001b[38;5;124;43m\"\u001b[39;49m\u001b[38;5;124;43mmemory_map\u001b[39;49m\u001b[38;5;124;43m\"\u001b[39;49m\u001b[43m,\u001b[49m\u001b[43m \u001b[49m\u001b[38;5;28;43;01mFalse\u001b[39;49;00m\u001b[43m)\u001b[49m\u001b[43m,\u001b[49m\n\u001b[1;32m   1368\u001b[0m \u001b[43m        \u001b[49m\u001b[43mstorage_options\u001b[49m\u001b[38;5;241;43m=\u001b[39;49m\u001b[43mkwds\u001b[49m\u001b[38;5;241;43m.\u001b[39;49m\u001b[43mget\u001b[49m\u001b[43m(\u001b[49m\u001b[38;5;124;43m\"\u001b[39;49m\u001b[38;5;124;43mstorage_options\u001b[39;49m\u001b[38;5;124;43m\"\u001b[39;49m\u001b[43m,\u001b[49m\u001b[43m \u001b[49m\u001b[38;5;28;43;01mNone\u001b[39;49;00m\u001b[43m)\u001b[49m\u001b[43m,\u001b[49m\n\u001b[1;32m   1369\u001b[0m \u001b[43m    \u001b[49m\u001b[43m)\u001b[49m\n",
      "File \u001b[0;32m~/miniconda3/envs/min_ds-env/lib/python3.8/site-packages/pandas/io/common.py:642\u001b[0m, in \u001b[0;36mget_handle\u001b[0;34m(path_or_buf, mode, encoding, compression, memory_map, is_text, errors, storage_options)\u001b[0m\n\u001b[1;32m    640\u001b[0m         errors \u001b[38;5;241m=\u001b[39m \u001b[38;5;124m\"\u001b[39m\u001b[38;5;124mreplace\u001b[39m\u001b[38;5;124m\"\u001b[39m\n\u001b[1;32m    641\u001b[0m     \u001b[38;5;66;03m# Encoding\u001b[39;00m\n\u001b[0;32m--> 642\u001b[0m     handle \u001b[38;5;241m=\u001b[39m \u001b[38;5;28;43mopen\u001b[39;49m\u001b[43m(\u001b[49m\n\u001b[1;32m    643\u001b[0m \u001b[43m        \u001b[49m\u001b[43mhandle\u001b[49m\u001b[43m,\u001b[49m\n\u001b[1;32m    644\u001b[0m \u001b[43m        \u001b[49m\u001b[43mioargs\u001b[49m\u001b[38;5;241;43m.\u001b[39;49m\u001b[43mmode\u001b[49m\u001b[43m,\u001b[49m\n\u001b[1;32m    645\u001b[0m \u001b[43m        \u001b[49m\u001b[43mencoding\u001b[49m\u001b[38;5;241;43m=\u001b[39;49m\u001b[43mioargs\u001b[49m\u001b[38;5;241;43m.\u001b[39;49m\u001b[43mencoding\u001b[49m\u001b[43m,\u001b[49m\n\u001b[1;32m    646\u001b[0m \u001b[43m        \u001b[49m\u001b[43merrors\u001b[49m\u001b[38;5;241;43m=\u001b[39;49m\u001b[43merrors\u001b[49m\u001b[43m,\u001b[49m\n\u001b[1;32m    647\u001b[0m \u001b[43m        \u001b[49m\u001b[43mnewline\u001b[49m\u001b[38;5;241;43m=\u001b[39;49m\u001b[38;5;124;43m\"\u001b[39;49m\u001b[38;5;124;43m\"\u001b[39;49m\u001b[43m,\u001b[49m\n\u001b[1;32m    648\u001b[0m \u001b[43m    \u001b[49m\u001b[43m)\u001b[49m\n\u001b[1;32m    649\u001b[0m \u001b[38;5;28;01melse\u001b[39;00m:\n\u001b[1;32m    650\u001b[0m     \u001b[38;5;66;03m# Binary mode\u001b[39;00m\n\u001b[1;32m    651\u001b[0m     handle \u001b[38;5;241m=\u001b[39m \u001b[38;5;28mopen\u001b[39m(handle, ioargs\u001b[38;5;241m.\u001b[39mmode)\n",
      "\u001b[0;31mFileNotFoundError\u001b[0m: [Errno 2] No such file or directory: 'description.csv'"
     ]
    }
   ],
   "source": [
    "des_df = pd.read_csv('description.csv', encoding='utf-8')\n",
    "pd.set_option('display.max_colwidth', None)\n",
    "des_df"
   ]
  },
  {
   "cell_type": "markdown",
   "metadata": {},
   "source": [
    "## 4.6. Kiểm tra kiểu dữ liệu của các cột và điều chỉnh cho phù hợp <a name = \"section4_6\"></a>\n",
    "[Quay về mục lục](#TOC)"
   ]
  },
  {
   "cell_type": "code",
   "execution_count": null,
   "metadata": {},
   "outputs": [],
   "source": [
    "covid19_df.dtypes"
   ]
  },
  {
   "cell_type": "markdown",
   "metadata": {},
   "source": [
    "## 4.7. Tìm sự phân phối của các cột dữ liệu kiểu số <a name = \"section4_7\"></a>\n",
    "[Quay về mục lục](#TOC)"
   ]
  },
  {
   "cell_type": "code",
   "execution_count": null,
   "metadata": {},
   "outputs": [],
   "source": [
    "num_df = covid19_df.select_dtypes(include='number')\n",
    "\n",
    "mising_percentage = np.round((num_df.isna().sum() / row) * 100, 3)      # tỉ lệ giá trị bị thiếu\n",
    "min_values = num_df.min()                                               # các giá trị nhỏ nhất\n",
    "max_values = num_df.max()                                               # các giá trị lớn nhất\n",
    "\n",
    "num_cols_distribution = pd.DataFrame(data = np.array((mising_percentage, min_values, max_values)),\n",
    "                                                      columns = num_df.columns,\n",
    "                                                      index = ['mising percentage', 'min', 'max'])\n",
    "num_cols_distribution"
   ]
  },
  {
   "cell_type": "markdown",
   "metadata": {},
   "source": [
    "'tot_cases_1m_pop', 'deaths_1m_pop', 'tests_1m_pop', '1_caseevery_x_ppl', '1_deathevery_x_ppl', '1_testevery_x_ppl', 'new_cases_1m_pop', 'new_deaths_1m_pop', 'active_cases_1m_pop'"
   ]
  },
  {
   "cell_type": "markdown",
   "metadata": {},
   "source": [
    "## 4.8. Tìm sự phân phối của các cột dữ liệu phân loại <a name = \"section4_8\"></a>\n",
    "[Quay về mục lục](#TOC)"
   ]
  },
  {
   "cell_type": "code",
   "execution_count": null,
   "metadata": {},
   "outputs": [],
   "source": [
    "cat_df = covid19_df.select_dtypes(exclude = 'number')\n",
    "\n",
    "mising_percentage = (cat_df.isna().sum() / row) * 100           # tỉ lệ giá trị bị thiếu\n",
    "num_diff_vals = cat_df.apply(lambda col: col.nunique())         # số giá trị khác nhau\n",
    "diff_vals = cat_df.apply(lambda col: col.dropna().unique())     # các giá trị khác nhau\n",
    "\n",
    "cat_cols_distribution = pd.DataFrame(data = np.array((mising_percentage, num_diff_vals, diff_vals)),\n",
    "                                     columns = cat_df.columns,\n",
    "                                     index = ['mising percentage', 'num_diff_vals', 'diff_vals'])\n",
    "\n",
    "pd.reset_option(\"display.max_colwidth\")\n",
    "cat_cols_distribution"
   ]
  },
  {
   "cell_type": "markdown",
   "metadata": {},
   "source": [
    "## 4.9. Xử lý các dòng bị thiếu dữ liệu <a name = \"section4_9\"></a>\n",
    "[Quay về mục lục](#TOC)"
   ]
  },
  {
   "cell_type": "markdown",
   "metadata": {},
   "source": [
    "- Từ việc kiểm tra sự phân phối của cột dữ liệu số và cột dữ liệu phân loại thì ta thấy các cột 'newcases', 'newdeaths', 'newrecovered','new_cases_1m_pop',\t'new_deaths_1m_pop', 'active_cases_1m_pop' có phần trăm missing value rất cao. Tại sao lại bị missing value như thế vì ữ liệu chúng ta đang làm chỉ có thông tin 1 ngày, các ca tăng lên có thể có hoặc là không, nên tạm thời ta sẽ không xoá những cột này, để tiện cho việc phân tích nhiều ngày liên tiếp."
   ]
  },
  {
   "cell_type": "code",
   "execution_count": null,
   "metadata": {},
   "outputs": [],
   "source": [
    "covid19_df"
   ]
  },
  {
   "cell_type": "markdown",
   "metadata": {},
   "source": [
    "---"
   ]
  },
  {
   "cell_type": "markdown",
   "metadata": {},
   "source": [
    "# **5. Phân tích dữ liệu** <a name = \"section5\"></a>\n",
    "[Quay về mục lục](#TOC)"
   ]
  },
  {
   "cell_type": "markdown",
   "metadata": {},
   "source": [
    "## 5.1. Vẽ biểu đồ heatmap sau khi đã xử lí để quan sát sự tương quan giữa các cột còn lại với nhau <a name = \"section5_1\"></a>\n",
    "[Quay về mục lục](#TOC)"
   ]
  },
  {
   "cell_type": "markdown",
   "metadata": {},
   "source": [
    "Remove những dòng chứa Continent và Total"
   ]
  },
  {
   "cell_type": "code",
   "execution_count": null,
   "metadata": {},
   "outputs": [],
   "source": [
    "rm_list = ['All', 'Africa', 'Asia', 'Europe', 'North America', 'Oceania', 'South America', 'World', 'Total:']"
   ]
  },
  {
   "cell_type": "code",
   "execution_count": null,
   "metadata": {},
   "outputs": [],
   "source": [
    "covid19_df_hm_full = covid19_df.copy()\n",
    "covid19_df_hm_full = covid19_df_hm_full[~covid19_df_hm_full['country_other'].isin(rm_list)]\n",
    "covid19_df_hm_full.reset_index(drop=True, inplace=True)"
   ]
  },
  {
   "cell_type": "markdown",
   "metadata": {},
   "source": [
    "### Loại bỏ các cột không cần thiết, thiếu dữ liệu khi trực quan hóa bằng heatmap"
   ]
  },
  {
   "cell_type": "markdown",
   "metadata": {},
   "source": [
    "#### 1. Các cột `new*...` là các cột thể hiện số liệu mới trong ngày, nhưng một số nước không cập nhật các số liệu này thường xuyên nên sẽ có rất nhiều giá trị NaN."
   ]
  },
  {
   "cell_type": "code",
   "execution_count": null,
   "metadata": {},
   "outputs": [],
   "source": [
    "bar_nan=pd.DataFrame(covid19_df_hm_full.isna().sum())\n",
    "\n",
    "sns.barplot(x=bar_nan.index, y=bar_nan[0], color='Blue', alpha=0.5)\\\n",
    "    .set_xticklabels(bar_nan.index, rotation=60, horizontalalignment='right')\n",
    "plt.axhline(200, color='r', linestyle='--')\n",
    "plt.ylabel('NaN values')\n",
    "plt.title('NaN values in each column')\n",
    "plt.figure(figsize=a4_dims)\n",
    "plt.show()"
   ]
  },
  {
   "cell_type": "markdown",
   "metadata": {},
   "source": [
    "- Hơn **200** nước không có dữ liệu về các cột này nên ta sẽ loại bỏ chúng để tránh sai sót trong việc phân tích."
   ]
  },
  {
   "cell_type": "code",
   "execution_count": null,
   "metadata": {},
   "outputs": [],
   "source": [
    "col_rm = bar_nan[bar_nan[0]>200].index.tolist()\n",
    "col_rm"
   ]
  },
  {
   "cell_type": "markdown",
   "metadata": {},
   "source": [
    "#### 2. Các cột có thể suy ra được bằng cách tính toán từ các cột khác\n",
    "- Các cột `total...`, `1_..._every_x_ppl`, `...1m_pop`"
   ]
  },
  {
   "cell_type": "markdown",
   "metadata": {},
   "source": [
    "- Ví dụ:\n",
    "    - tot_cases_1m_pop = $\\frac{totalcases}{population} * 10^6$\n",
    "    \n",
    "    - 1_case_every_x_ppl = $\\frac{population}{totalcases}$"
   ]
  },
  {
   "cell_type": "code",
   "execution_count": null,
   "metadata": {},
   "outputs": [],
   "source": [
    "def prove_1m_pop(col1, col2):\n",
    "    return ((col1/covid19_df_hm_full['population']*(10**6)).round().replace(np.NaN, 0)\\\n",
    "     == col2.replace(np.NaN, 0).round()).all()\n",
    "\n",
    "def prove_1e_x(col1, col2):\n",
    "    return ((covid19_df_hm_full['population']/col1).round().replace(np.NaN, 0)\\\n",
    "        == col2.replace(np.NaN, 0)).all()"
   ]
  },
  {
   "cell_type": "code",
   "execution_count": null,
   "metadata": {},
   "outputs": [],
   "source": [
    "print('tot_cases_1m_pop :',\\\n",
    "    prove_1m_pop(covid19_df_hm_full['totalcases'], covid19_df_hm_full['tot_cases_1m_pop']))"
   ]
  },
  {
   "cell_type": "code",
   "execution_count": null,
   "metadata": {},
   "outputs": [],
   "source": [
    "print('deaths_1m_pop :',\\\n",
    "    prove_1m_pop(covid19_df_hm_full['totaldeaths'], covid19_df_hm_full['deaths_1m_pop']))"
   ]
  },
  {
   "cell_type": "code",
   "execution_count": null,
   "metadata": {},
   "outputs": [],
   "source": [
    "print('tests_1m_pop :',\\\n",
    "    prove_1m_pop(covid19_df_hm_full['totaltests'], covid19_df_hm_full['tests_1m_pop']))"
   ]
  },
  {
   "cell_type": "code",
   "execution_count": null,
   "metadata": {},
   "outputs": [],
   "source": [
    "print('1_caseevery_x_ppl :',\\\n",
    "    prove_1e_x(covid19_df_hm_full['totalcases'], covid19_df_hm_full['1_caseevery_x_ppl']))"
   ]
  },
  {
   "cell_type": "code",
   "execution_count": null,
   "metadata": {},
   "outputs": [],
   "source": [
    "print('1_deathevery_x_ppl :',\\\n",
    "    prove_1e_x(covid19_df_hm_full['totaldeaths'], covid19_df_hm_full['1_deathevery_x_ppl']))"
   ]
  },
  {
   "cell_type": "code",
   "execution_count": null,
   "metadata": {},
   "outputs": [],
   "source": [
    "print('1_testevery_x_ppl :',\\\n",
    "    prove_1e_x(covid19_df_hm_full['totaltests'], covid19_df_hm_full['1_testevery_x_ppl']))"
   ]
  },
  {
   "cell_type": "code",
   "execution_count": null,
   "metadata": {},
   "outputs": [],
   "source": [
    "print('new_cases_1m_pop :',\\\n",
    "    prove_1m_pop(covid19_df_hm_full['newcases'], covid19_df_hm_full['new_cases_1m_pop']))"
   ]
  },
  {
   "cell_type": "code",
   "execution_count": null,
   "metadata": {},
   "outputs": [],
   "source": [
    "print('new_deaths_1m_pop :',\\\n",
    "    prove_1m_pop(covid19_df_hm_full['newdeaths'], covid19_df_hm_full['new_deaths_1m_pop']))"
   ]
  },
  {
   "cell_type": "code",
   "execution_count": null,
   "metadata": {},
   "outputs": [],
   "source": [
    "print('activecases_1m_pop :',\\\n",
    "    prove_1m_pop(covid19_df_hm_full['activecases'], covid19_df_hm_full['active_cases_1m_pop']))"
   ]
  },
  {
   "cell_type": "code",
   "execution_count": null,
   "metadata": {},
   "outputs": [],
   "source": [
    "temp=((covid19_df_hm_full['activecases']/covid19_df_hm_full['population']*(10**6)).round().replace(np.NaN, 0) ==\\\n",
    "covid19_df_hm_full['active_cases_1m_pop'].replace(np.NaN, 0).round())\n",
    "\n",
    "# get False values\n",
    "temp[temp==False].head()"
   ]
  },
  {
   "cell_type": "markdown",
   "metadata": {},
   "source": [
    "Kiểm tra vì sao xuất hiện False ở index 10"
   ]
  },
  {
   "cell_type": "code",
   "execution_count": null,
   "metadata": {},
   "outputs": [],
   "source": [
    "# inspect index 10\n",
    "covid19_df_hm_full.iloc[10][['country_other', 'activecases', 'population', 'active_cases_1m_pop']]"
   ]
  },
  {
   "cell_type": "markdown",
   "metadata": {},
   "source": [
    "-> False do dữ liệu `active_cases_1m_pop` của những nước này chưa được cập nhật theo `activecases` -> công thức vẫn đúng ở trường hợp này"
   ]
  },
  {
   "cell_type": "markdown",
   "metadata": {},
   "source": [
    "#### Các cột sẽ được loại bỏ:"
   ]
  },
  {
   "cell_type": "code",
   "execution_count": null,
   "metadata": {},
   "outputs": [],
   "source": [
    "col_rm += ['tot_cases_1m_pop', 'deaths_1m_pop', 'tests_1m_pop', '1_caseevery_x_ppl', '1_deathevery_x_ppl', '1_testevery_x_ppl', 'new_cases_1m_pop', 'new_deaths_1m_pop', 'active_cases_1m_pop']\n",
    "col_rm"
   ]
  },
  {
   "cell_type": "code",
   "execution_count": null,
   "metadata": {},
   "outputs": [],
   "source": [
    "def heatmap_(df, size=a2_dims):\n",
    "    fig, ax = plt.subplots(figsize=size)\n",
    "    df = df.select_dtypes(include='number')\n",
    "    sns.heatmap(\n",
    "        ax=ax, data=df.corr(),\n",
    "        annot=True, fmt=\".2f\", cmap='coolwarm',\n",
    "        annot_kws={\"size\": 10},\n",
    "    )\n",
    "    plt.show()"
   ]
  },
  {
   "cell_type": "markdown",
   "metadata": {},
   "source": [
    "### Vẽ biểu đồ heatmap trên dataframe sau khi đã xử lí để quan sát sự tương quan giữa các cột còn lại với nhau"
   ]
  },
  {
   "cell_type": "code",
   "execution_count": null,
   "metadata": {},
   "outputs": [],
   "source": [
    "covid19_df_new = covid19_df_hm_full.drop(columns=col_rm, axis=1)\n",
    "heatmap_(covid19_df_new, a4_dims)"
   ]
  },
  {
   "cell_type": "markdown",
   "metadata": {},
   "source": [
    "- Ta có thể thấy các cột `totalcases`, `totaldeaths`, `totaltests`, `totalrecovered`, `serious_critical`, `total_tests` có mối tương quan chặt chẽ với nhau\n",
    "- Sort lại các cột để dễ quan sát hơn"
   ]
  },
  {
   "cell_type": "code",
   "execution_count": null,
   "metadata": {},
   "outputs": [],
   "source": [
    "col_sort = ['totalcases', 'totaldeaths', 'totalrecovered', 'serious_critical', 'totaltests', 'population', 'activecases']\n",
    "heatmap_(covid19_df_new[col_sort], a4_dims)"
   ]
  },
  {
   "cell_type": "markdown",
   "metadata": {},
   "source": [
    "- Ngoài ra ta cũng có thể thấy `population` tương quan với `serious_critical` và `totaltests`.\n",
    "- Cho thấy là những nước có dân số càng lớn thì sẽ càng ghi nhận được nhiều người trong tình trạng nghiêm trọng cũng như nhiều người được test hơn các nước có dân số ít hơn."
   ]
  },
  {
   "cell_type": "markdown",
   "metadata": {},
   "source": [
    "## 5.2. Vẽ biểu đồ Radarchart thể hiện mối tương quan của tổng số ca, ca tử vong, ca hồi phục, ca điều trị, số ca tử vong / tổng ca <a name = \"section5_2\"></a>\n",
    "[Quay về mục lục](#TOC)"
   ]
  },
  {
   "cell_type": "code",
   "execution_count": null,
   "metadata": {},
   "outputs": [],
   "source": [
    "covid19_df_rd = covid19_df.copy().drop(columns=col_rm, axis=1)"
   ]
  },
  {
   "cell_type": "code",
   "execution_count": null,
   "metadata": {},
   "outputs": [],
   "source": [
    "radar_data = covid19_df_rd[['totalcases','totaldeaths','totalrecovered','activecases']].iloc[:6,:]\n",
    "radar_data['Total Deaths / Total Cases'] = radar_data['totaldeaths'] / radar_data['totalcases'] * 100\n",
    "scale = StandardScaler()\n",
    "data_ = scale.fit_transform(radar_data)\n",
    "data_"
   ]
  },
  {
   "cell_type": "code",
   "execution_count": null,
   "metadata": {},
   "outputs": [],
   "source": [
    "categories = radar_data.columns\n",
    "categories = [*categories, categories[0]]\n",
    "radar_ = []\n",
    "for i in range(6):\n",
    "    radar_.append([*data_[i],data_[i][0]])\n",
    "\n",
    "label_loc = np.linspace(start=0, stop=2 * np.pi, num=len(radar_[0]))\n",
    "\n",
    "label = ['North America','Asia','Europe','South America','Oceania','Africa']\n",
    "\n",
    "plt.figure(figsize=(8, 8))\n",
    "plt.subplot(polar=True)\n",
    "for i in range(6):\n",
    "    plt.plot(label_loc, radar_[i], label=label[i])\n",
    "    plt.fill(label_loc,radar_[i],alpha = 0.1)\n",
    "\n",
    "plt.title('Continent comparison', size=20, y=1.05)\n",
    "lines, labels = plt.thetagrids(np.degrees(label_loc), labels=categories)\n",
    "plt.legend()\n",
    "plt.show()\n"
   ]
  },
  {
   "cell_type": "markdown",
   "metadata": {},
   "source": [
    "Dựa vào radar chart trên ta thấy một số điểm đặc biệt :\n",
    "- Mặc dù tổng số ca nhiễm ở Châu Phi thấp nhất thế giới tuy nhiên tỉ lệ tử vong hiện tại lại cao nhất thế giới. Điều đó cho thấy nền y tế của Châu Phi tương đối kém phát triển so với các nước khác.\n",
    "- Số ca nhiễm hiện tại cao nhất là ở Châu Á mặc dù tổng số ca nhiễm ở khu vực này không cao nhất thế giới và hiện tại tỉ lệ tử vong của khu vực này thấp thứ 2 toàn thế giới.\n",
    "- Châu Âu là khu vực tổng ca nhiễm cao nhất thế giới đi kèm với việc đó là tổng người tử vong và tổng lượng người bình phục cũng cao nhất. Mặc dù có tổng số người tử vong cao nhất thế giới nhưng tỉ lệ tử vong ở khu vực cũng chỉ đứng thứ 4 trên 6 châu lục. Ngoài ra số ca đang mắc bệnh hiện tại của Châu Âu cũng tương đối thấp (Sau Châu Á và Bắc Mĩ), điều đó cho thấy Châu Âu đã phần nào kiểm soát được tình hình dịch bệnh.\n",
    "- Nam Mỹ cũng thuộc về trường hợp khá tương đồng với Châu Phi mặc dù số ca nhiễm không thuộc vào hàng cao nhất thế giới nhưng tỉ lệ tử vong lại rất cao.\n",
    "- Châu Đại Dương mọi đặc điểm hầu như thấp nhất trong tất cả khu vực, câu trả lời hợp lý nhất cho hiện tượng này có vẻ do tổng dân số khu vực này thấp, công tác chống dịch cũng như y tế khu vực này tốt."
   ]
  },
  {
   "cell_type": "markdown",
   "metadata": {},
   "source": [
    "## 5.3. Vẽ biểu đồ Scatterplot thể hiện mối tương quan của tổng số ca nhiễm bệnh và tổng số ca xét nghiệm <a name = \"section5_3\"></a>\n",
    "[Quay về mục lục](#TOC)"
   ]
  },
  {
   "cell_type": "code",
   "execution_count": null,
   "metadata": {},
   "outputs": [],
   "source": [
    "countries_df=covid19_df[8:-8]\n",
    "countries_df.reset_index(drop=True)\n",
    "\n",
    "fig, ax = plt.subplots(figsize=(10,8))\n",
    "plt.xscale('log')\n",
    "plt.yscale('log')\n",
    "sns.set(style=\"ticks\", color_codes=True)\n",
    "sns.scatterplot(data=countries_df,x='totalcases',y='totaltests',size=\"totaldeaths\",hue=\"continent\",legend=True,palette=\"viridis\", edgecolors=\"black\",alpha=0.5,sizes=(30,2000)).set(title='Correlation of Totalcases , Totaltests and Totaldeaths')\n",
    "plt.legend(bbox_to_anchor=(1.01, 1))\n",
    "plt.show()\n"
   ]
  },
  {
   "cell_type": "markdown",
   "metadata": {},
   "source": [
    "- Biểu đồ thể hiện mối tương quan của tổng số ca nhiễm bệnh và tổng số ca xét nghiệm. Độ to nhỏ của mỗi điểm dữ liệu phụ thuộc vào ca tử vong của mỗi nước.\n",
    "- Mối quan hệ giữa hai cột này thể hiện mối tương quan dương khá rõ ràng. Các nước có tỷ lệ mắc nhiễm bệnh càng nhiều thì thực hiện xét nghiệm covid càng nhiều. Rõ ràng thì số lượng xét nghiệm của một nước luôn cao hơn nhiều so với số lượng ca mắc của nước đó điều đó chứng tỏ rằng các nước này luôn thực hiện xét nghiệm thường xuyên để đảm bảo chọn lọc kỹ càng người mắc bệnh và người không mắc bệnh. Nhờ vậy mà các cơ quan chính quyền có thể đảm bảo an toàn và kiểm soát dịch bệnh một cách dễ dàng.\n",
    "- Các nước có số ca tử vong cao là các nước có số lượng người nhiễm bệnh nhiều qua hàng loạt lượt xét nghiệm.\n",
    "- Đặc biệt Bắc Mỹ và Châu Á là nơi có số lượng người mắc bệnh và tử vong cao nhất thế giới \n",
    "- Châu Phi là nơi có số người nhiễm bệnh và tử vong ít nhất lúc bấy giờ."
   ]
  },
  {
   "cell_type": "markdown",
   "metadata": {},
   "source": [
    "## 5.4. Vẽ biểu đồ Scatterplot thể hiện mối tương quan của tổng số ca và tổng số dân. <a name = \"section5_4\"></a>\n",
    "[Quay về mục lục](#TOC)"
   ]
  },
  {
   "cell_type": "code",
   "execution_count": null,
   "metadata": {},
   "outputs": [],
   "source": [
    "fig, ax = plt.subplots(figsize=(10,8))\n",
    "plt.xscale('log')\n",
    "plt.yscale('log')\n",
    "sns.set(style=\"ticks\", color_codes=True)\n",
    "sns.scatterplot(data=countries_df,x='population',y='totalcases',hue='continent').set(title='Correlation between population and totalcases')\n",
    "plt.legend(bbox_to_anchor=(1.01, 1))\n",
    "plt.show()"
   ]
  },
  {
   "cell_type": "markdown",
   "metadata": {},
   "source": [
    "- Ta thấy được rằng biểu đồ thể hiện mối quan hệ tương quan dương giữa hai cột dữ liệu. Tức là quốc gia có dân số càng đông thì số ca mắc bệnh ở các nước đó cũng tăng theo. \n",
    "- Đặc biệt Châu Á và Châu Phi, ta thấy rằng các điểm dữ liệu tập trung hầu hết ở quanh vị trí 1 triệu dân tương ứng với 100 nghìn ca nhiễm thì các điểm dữ liệu bắt đầu thưa dần và xuất hiện các outliers."
   ]
  },
  {
   "cell_type": "markdown",
   "metadata": {},
   "source": [
    "## 5.5. Vẽ biểu đồ Scatterplot để xem có mối tương quan của số ca hồi phục và số ca điều trị không <a name = \"section5_5\"></a>\n",
    "[Quay về mục lục](#TOC)"
   ]
  },
  {
   "cell_type": "code",
   "execution_count": null,
   "metadata": {},
   "outputs": [],
   "source": [
    "fig, ax = plt.subplots(figsize=(10,8))\n",
    "plt.xscale('log')\n",
    "plt.yscale('log')\n",
    "sns.set(style=\"ticks\", color_codes=True)\n",
    "sns.scatterplot(data=countries_df,y='activecases',x='totalrecovered',size=\"totaldeaths\",hue=\"continent\",legend=True,palette=\"viridis\", edgecolors=\"black\",alpha=0.5,sizes=(20,2000)).set(title='Correlation of Totalrecovered , Activecases and Totaldeaths')\n",
    "plt.legend(bbox_to_anchor=(1.01, 1))\n",
    "plt.show()\n"
   ]
  },
  {
   "cell_type": "markdown",
   "metadata": {},
   "source": [
    "- Dựa theo biểu đồ trên ta thấy được hai cột dữ liệu không có mối tương quan rõ ràng. \n",
    "- Nhưng vẫn thể hiện được rằng điểm dữ liệu của các nước có người đang nhiễm bệnh trãi đều từ thấp đến cao ( từ dưới 10 người đến hàng chục triệu người). Trong khi đó các điểm dữ liệu thể hiện tổng số người đã khỏi bệnh ở các nước bắt đầu từ hàng ngàn người đến hàng trăm triệu người. Qua đó mà ta có thể thấy được rằng nền y tế của các nước đang thực hiện rất tốt nhiệm vụ chữa trị cho người dân của mình.\n",
    "- Lượng lớn người tử vong tập trung phần lớn ở các nước châu Mỹ và châu Á là những nước luôn có số người hồi phục nhiều hơn so với số người đang nhiễm bệnh.  "
   ]
  },
  {
   "cell_type": "markdown",
   "metadata": {},
   "source": [
    "## 5.6. Vẽ biểu đồ Barchart để thể hiện mối quan hệ giữa tử vong, ca hồi phục, ca điều trị các khu vực. <a name = \"section5_6\"></a>\n",
    "[Quay về mục lục](#TOC)"
   ]
  },
  {
   "cell_type": "markdown",
   "metadata": {},
   "source": [
    "- Trước tiên cần chọn những cột cần thiết như 'totaldeath', 'totalrecovred' và 'activecases'. Ở đây ta sẽ chọn những dòng mà country_other là các 'Total', đây là phần tổng hợp cho từng khu vực và nó có thể là của thế giới nên cũng cần loại bỏ dòng đó\n",
    "\n",
    "- Do có sự chênh lệch giữa 'totaldeath', 'totalrecovred' và 'activecases' giữa các khu vực khiến cho 1 trong 3 cột giữa các khu vực có điểm nổi bật hơn các cột còn lại khiến cho ta không thể so sánh được nên cũng cần scale dữ liệu để dễ dàng nận xét hơn."
   ]
  },
  {
   "cell_type": "code",
   "execution_count": null,
   "metadata": {},
   "outputs": [],
   "source": [
    "covid19_df_bar = covid19_df[covid19_df['country_other'] == 'Total:'].copy().reset_index()\n",
    "\n",
    "covid19_df_bar = covid19_df_bar[['continent','totaldeaths','totalrecovered','activecases']]\n",
    "covid19_df_bar = covid19_df_bar[covid19_df_bar['continent']!='All']\n",
    "covid19_df_bar = covid19_df_bar.groupby(['continent']).sum()\n",
    "covid19_df_bar = np.log(covid19_df_bar)\n",
    "\n",
    "covid19_df_bar"
   ]
  },
  {
   "cell_type": "code",
   "execution_count": null,
   "metadata": {},
   "outputs": [],
   "source": [
    "deaths = list(covid19_df_bar['totaldeaths'])\n",
    "recovered =  list(covid19_df_bar['totalrecovered'])\n",
    "active =  list(covid19_df_bar['activecases'])"
   ]
  },
  {
   "cell_type": "markdown",
   "metadata": {},
   "source": [
    "- Trực quan dữ liệu bằng barchart"
   ]
  },
  {
   "cell_type": "code",
   "execution_count": null,
   "metadata": {},
   "outputs": [],
   "source": [
    "barWidth = 0.25\n",
    "fig = plt.subplots(figsize =(12, 8))\n",
    "\n",
    "br1 = np.arange(len(deaths))\n",
    "br2 = [x + barWidth for x in br1]\n",
    "br3 = [x + barWidth for x in br2]\n",
    "\n",
    "plt.bar(br1, deaths, color ='r', width = barWidth,\n",
    "        edgecolor ='grey', label ='deaths')\n",
    "plt.bar(br2, recovered, color ='g', width = barWidth,\n",
    "        edgecolor ='grey', label ='recovered')\n",
    "plt.bar(br3, active, color ='b', width = barWidth,\n",
    "        edgecolor ='grey', label ='active')\n",
    "plt.title('Biểu đồ thể hiện số ca tử vong, số ca hồi phục và số ca điều trị giữa các khu vực')\n",
    "\n",
    "plt.xlabel('Continent', fontweight ='bold', fontsize = 15)\n",
    "plt.ylabel('Case', fontweight ='bold', fontsize = 15)\n",
    "plt.xticks([r + barWidth for r in range(len(deaths))], covid19_df_bar.index)\n",
    " \n",
    "plt.legend()\n",
    "plt.show()"
   ]
  },
  {
   "cell_type": "markdown",
   "metadata": {},
   "source": [
    "Biểu đồ barchart cho thấy rằng:\n",
    "- Nhìn chung thì các khu vực có các ca hồi phục cao hơn những ca tử vong và ca đang điều trị. Trong đó có 2 khu vực cao khá tương đương nhau đó là Asia và Europe.\n",
    "- Số ca đang điều trị cũng ít hơn, số ca tử vong của các khu vực cũng ít dần.\n",
    "- Điều này là minh chứng của việc chính phủ đã có những biện pháp rất tốt để ngăn chặn dịch bệnh và cũng nói lên rằng điều kiện y tế cũng rất phát triển, cứu giúp kịp thời."
   ]
  },
  {
   "cell_type": "markdown",
   "metadata": {},
   "source": [
    "## 5.7. Vẽ biểu đồ Histogram để thể hiện sự phân bố của các quốc gia về tổng ca và số ca tử vong bằng histogram <a name = \"section5_7\"></a>\n",
    "[Quay về mục lục](#TOC)"
   ]
  },
  {
   "cell_type": "markdown",
   "metadata": {},
   "source": [
    "- Để tránh ảnh hưởng tới đến những phần khác thì cần phải copy data."
   ]
  },
  {
   "cell_type": "code",
   "execution_count": null,
   "metadata": {},
   "outputs": [],
   "source": [
    "covid19_df_hist = covid19_df.copy()"
   ]
  },
  {
   "cell_type": "code",
   "execution_count": null,
   "metadata": {},
   "outputs": [],
   "source": [
    "df = np.log(covid19_df_hist['totalcases'])"
   ]
  },
  {
   "cell_type": "code",
   "execution_count": null,
   "metadata": {},
   "outputs": [],
   "source": [
    "plt.hist(df)\n",
    "plt.xlabel('totalcases')\n",
    "plt.ylabel('Số nước')\n",
    "plt.title('Biểu đồ thể hiện sự phân bố của các quốc gia về số ca nhiễm')\n",
    "\n",
    "plt.axvline(df.mean(), color='green', label=\"Mean\")\n",
    "plt.axvline(df.median() , color='red', label= \"Median\")\n",
    "plt.legend()\n",
    "\n",
    "plt.show()"
   ]
  },
  {
   "cell_type": "markdown",
   "metadata": {},
   "source": [
    "Biều đồ histogram đã thể hiện rằng:\n",
    "- Sự phân bố ca nhiễm khá đều.\n",
    "- Ta thấy mean và median trùng nhau, đó chính là điều minh chứng cho ý trên.\n",
    "- Khoảng 12.5 thì có gần 50 nước như thế."
   ]
  },
  {
   "cell_type": "code",
   "execution_count": null,
   "metadata": {},
   "outputs": [],
   "source": [
    "df_1 = np.log(covid19_df_hist['totaldeaths'])"
   ]
  },
  {
   "cell_type": "code",
   "execution_count": null,
   "metadata": {},
   "outputs": [],
   "source": [
    "plt.hist(df_1)\n",
    "plt.xlabel('totaldeaths')\n",
    "plt.ylabel('Số nước')\n",
    "plt.title('Biểu đồ thể hiện sự phân bố của các quốc gia về số ca tử vong')\n",
    "\n",
    "\n",
    "plt.axvline(df_1.mean(), color='green', label=\"Mean\")\n",
    "plt.axvline(df_1.median() , color='red', label= \"Median\")\n",
    "plt.legend()\n",
    "\n",
    "plt.show()"
   ]
  },
  {
   "cell_type": "markdown",
   "metadata": {},
   "source": [
    "Cũng tương tự như vậy, đây là biểu đồ thể hiện sự phân bố ca tử vong trên 1 triệu người.\n",
    "- Sự phân bố ca tử vong cũng khá đều.\n",
    "- Ta thấy đường mean và median khá gần nhau, tức là số ca tử vong (đã được scale) là 8 thì có gần 50 nước."
   ]
  },
  {
   "cell_type": "markdown",
   "metadata": {},
   "source": [
    "## 5.8. Vẽ biểu đồ Donutchart để thể hiện mối quan hệ giữa tổng số ca, ca tử vong, ca hồi phục, ca điều trị giữa các khu vực <a name = \"section5_8\"></a>\n",
    "[Quay về mục lục](#TOC)"
   ]
  },
  {
   "cell_type": "markdown",
   "metadata": {},
   "source": [
    "- Trước tiên lựa chọn những hàng cần thiết để có thể vẽ donut chart. Ở đây ta sẽ chọn những cột 'continent','totaldeaths','totalrecovered','activecases', 'totalcases' vì biểu đồ diễn tả mối quan hệ thành phần tác động đến tổng thể dữ liệu."
   ]
  },
  {
   "cell_type": "code",
   "execution_count": null,
   "metadata": {},
   "outputs": [],
   "source": [
    "\n",
    "df = covid19_df[covid19_df['country_other'] == 'Total:'].reset_index()\n",
    "df"
   ]
  },
  {
   "cell_type": "markdown",
   "metadata": {},
   "source": [
    "- Sau đó ta sẽ góp nhóm theo từng khu vực để tiện cho việc vẽ biểu đồ theo từng khu vực."
   ]
  },
  {
   "cell_type": "code",
   "execution_count": null,
   "metadata": {},
   "outputs": [],
   "source": [
    "df = df[['continent','totaldeaths','totalrecovered','activecases', 'totalcases']]\n",
    "df = df[df['continent']!='All']\n",
    "df"
   ]
  },
  {
   "cell_type": "code",
   "execution_count": null,
   "metadata": {},
   "outputs": [],
   "source": [
    "\n",
    "test = df.groupby(['continent']).sum()\n",
    "test"
   ]
  },
  {
   "cell_type": "markdown",
   "metadata": {},
   "source": [
    "- Xử lý dữ liệu để có thể tiện vẽ biểu đồ."
   ]
  },
  {
   "cell_type": "code",
   "execution_count": null,
   "metadata": {},
   "outputs": [],
   "source": [
    "list_re = df.groupby(['continent'],sort=False).sum()\n",
    "test = list(map(float, list_re[['totaldeaths','totalrecovered','activecases']].values.flatten()))\n",
    "test"
   ]
  },
  {
   "cell_type": "markdown",
   "metadata": {},
   "source": [
    "- Cuối cùng là vẽ biểu đồ thể hiện mối tương quan của các trường dữ liệu đã chọn."
   ]
  },
  {
   "cell_type": "code",
   "execution_count": null,
   "metadata": {},
   "outputs": [],
   "source": [
    "fig, ax = plt.subplots(figsize = (10,9))\n",
    "size = 0.3\n",
    "\n",
    "labels = list (df['continent'].loc[:5]) \n",
    "mycolor1 = ['#e3342f','#ffed4a','#4dc0b5','#6574cd','#9561e2','#f66d9b']\n",
    "ax.pie(df['totalcases'][:6],labels=df['continent'][:6], radius=1,\n",
    "       autopct='%1.1f%%', pctdistance=0.8,\n",
    "       wedgeprops=dict(width=size, edgecolor='w'),colors=mycolor1)\n",
    "\n",
    "labels_2 = ['totaldeaths', 'totalrecovered', 'activecases']\n",
    "mycolor2 = ['#38c172','#f6993f','#3490dc',]\n",
    "ax.pie(test, radius=1-size, \n",
    "       autopct='%1.1f%%', pctdistance=0.8,\n",
    "       wedgeprops=dict(width=size, edgecolor='w'), colors=mycolor2)\n",
    "\n",
    "all_labels = labels + labels_2\n",
    "\n",
    "ax.set(aspect=\"equal\", title='Biểu đồ thể hiện mối quan hệ của totalcases,totaldeaths, totalrecovered và activecases')\n",
    "plt.legend(all_labels,loc=(-0.3, 0))\n",
    "\n",
    "ax.set()\n",
    "plt.show()"
   ]
  },
  {
   "cell_type": "markdown",
   "metadata": {},
   "source": [
    "Từ biểu đồ donutchart, ta thấy được:\n",
    "- Ở vòng tròn thứ nhất, tức là vòng ngoài cùng, đó là totalcases của các khu vực. Trong đó các khu vực Asia, Europe chiếm tỉ trọng khá cao, cụ thể lần lượt là 31.5% và 36.2%, đồng nghĩa là các nước trong khu vực này sẽ nhiều tổng ca bao gồm ca nhiễm, ca hồi phục và ca tử vong. Tiếp theo, các khu vực chiếm tỉ trọng tương đối là South America và North America. Cuối cùng là các nước ở khu vực Africa và Australia/Oceania, chiểm tỉ trọng thấp nhất trong biểu, cũng có thể xem là tổng số ca ít nhất so với các khu vực khác.\n",
    "- Để có thể hiểu rõ hơn từng khu vực, ta có thể xem vòng tròn thứ hai, tức là vòng tròn trong cùng, mỗi khu vực sẽ bao gồm totaldeaths, totalrecovered, activecases để thể tỉ trọng trong từng khu vực. Như ta thấy thì số ca hồi phục chiểm nhiều hơn so với số ca nhiễm và số ca tử vong. Cũng chính vì điều đó đã cho ta thấy được y tế được cải thiện rất nhiều so với những năm trước, Chính phủ đã quan tâm tới sức khoẻ của người dân nhiều hơn hoặc là đã tìm ra các phương pháp cứu chữa để làm giảm số ca tử vong.\n"
   ]
  },
  {
   "cell_type": "markdown",
   "metadata": {},
   "source": [
    "Để rõ hơn thì ta sẽ vẽ cụ thể cho từng cột 'totaldeaths','totalrecovered' và 'activecases'. Sự khác biệt giữa barchart trong câu 6 đó chính là ta sẽ thấy được tỉ trọng của từng khu vực trong các cột trên."
   ]
  },
  {
   "cell_type": "code",
   "execution_count": null,
   "metadata": {},
   "outputs": [],
   "source": [
    "fig, ax = plt.subplots(1,3,figsize = (20,9))\n",
    "size = 0.3\n",
    "label = df['continent'][:6]\n",
    "mycolor = ['#e3342f','#ffed4a','#4dc0b5','#6574cd','#9561e2','#f66d9b']\n",
    "\n",
    "ax[0].pie(df['totaldeaths'][:6],labels=label, radius=1,wedgeprops=dict(width=.5),\n",
    "       autopct='%1.1f%%', pctdistance=0.8,colors=mycolor)\n",
    "ax[0].set_title('totaldeaths')\n",
    "\n",
    "ax[1].pie(df['totalrecovered'][:6],labels=label, radius=1,wedgeprops=dict(width=.5),\n",
    "       autopct='%1.1f%%', pctdistance=0.8,colors=mycolor)\n",
    "ax[1].set_title('totalrecovered')\n",
    "\n",
    "ax[2].pie(df['activecases'][:6],labels=label, radius=1,wedgeprops=dict(width=.5),\n",
    "       autopct='%1.1f%%', pctdistance=0.8,colors=mycolor)\n",
    "ax[2].set_title('activecases')\n",
    "\n",
    "labels_2 = list (df['continent'].loc[:5])\n",
    "ax[0].legend(label, loc = \"best\", bbox_to_anchor = (0.1, 0.5,0.5,0.9))\n",
    "\n",
    "fig.suptitle('Biểu đồ thể hiện mối quan hệ giữa các khu vực của totaldeaths, totalrecovered và activecases', fontsize=16)\n",
    "\n",
    "plt.show()"
   ]
  },
  {
   "cell_type": "markdown",
   "metadata": {},
   "source": [
    "Nhìn biểu đồ trên, ta thấy:\n",
    "- Đối với totaldeaths,totalrecovered thì các khu vực NorthAmerica, Asia và Europe chiếm tỉ trọng khá lớn.\n",
    "- Đối với activecases thì Asia lại chiếm tỉ trọng lớn nhất. "
   ]
  },
  {
   "cell_type": "markdown",
   "metadata": {},
   "source": [
    "## 5.9. Vẽ biểu đồ Boxplot thể hiện sự chênh lệch ca nhiễm khu vực, sau đó dùng kiểm định thống kê để xem sự chênh lệch ca nhiễm khu vực <a name = \"section5_9\"></a>\n",
    "[Quay về mục lục](#TOC)"
   ]
  },
  {
   "cell_type": "code",
   "execution_count": 9,
   "metadata": {},
   "outputs": [],
   "source": [
    "a = covid19_df[covid19_df['continent'] == 'Asia']['totalcases'].tolist()\n",
    "a1 = covid19_df[covid19_df['continent'] == 'North America']['totalcases'].tolist()\n",
    "a2 = covid19_df[covid19_df['continent'] == 'Europe']['totalcases'].tolist()\n",
    "a3 = covid19_df[covid19_df['continent'] == 'South America']['totalcases'].tolist()\n",
    "a4 = covid19_df[covid19_df['continent'] == 'Australia/Oceania']['totalcases'].tolist()\n",
    "a5 = covid19_df[covid19_df['continent'] == 'Africa']['totalcases'].tolist()\n",
    "data = [a,a1,a2,a3,a4,a5]\n",
    "for i in data:\n",
    "    i.pop(0)\n",
    "    i.pop(len(i)-1)"
   ]
  },
  {
   "cell_type": "code",
   "execution_count": 10,
   "metadata": {},
   "outputs": [
    {
     "data": {
      "image/png": "[encoded data removed]",
      "text/plain": [
       "<Figure size 1000x500 with 1 Axes>"
      ]
     },
     "metadata": {},
     "output_type": "display_data"
    }
   ],
   "source": [
    "sns.set()   \n",
    "log_d = [np.log(x)for x in data]\n",
    "colors = ['pink', 'navajowhite', 'lightgreen','skyblue','mediumslateblue','darkseagreen']\n",
    "fig, ax = plt.subplots(figsize=(10, 5))\n",
    "bplot = ax.boxplot(log_d, showmeans=True,vert=True, patch_artist= True)\n",
    "\n",
    "for patch, color in zip(bplot['boxes'], colors):\n",
    "    patch.set_facecolor(color)\n",
    "\n",
    "x = bplot['medians'][0].get_xdata()[1]\n",
    "y = bplot['medians'][0].get_ydata()[1]\n",
    "\n",
    "x1= bplot['medians'][1].get_xdata()[0]\n",
    "y1 = bplot['medians'][1].get_ydata()[0]\n",
    "\n",
    "x1a= bplot['medians'][1].get_xdata()[1]\n",
    "y1a = bplot['medians'][1].get_ydata()[1]\n",
    "\n",
    "x2= bplot['medians'][2].get_xdata()[0]\n",
    "y2 = bplot['medians'][2].get_ydata()[0]\n",
    "\n",
    "x2a = bplot['medians'][2].get_xdata()[1]\n",
    "y2a = bplot['medians'][2].get_ydata()[1]\n",
    "\n",
    "x3 = bplot['medians'][3].get_xdata()[0]\n",
    "y3= bplot['medians'][3].get_ydata()[0]\n",
    "\n",
    "x3a = bplot['medians'][3].get_xdata()[1]\n",
    "y3a= bplot['medians'][3].get_ydata()[1]\n",
    "\n",
    "x4 = bplot['medians'][4].get_xdata()[0]\n",
    "y4 = bplot['medians'][4].get_ydata()[0]\n",
    "\n",
    "x4a = bplot['medians'][4].get_xdata()[1]\n",
    "y4a = bplot['medians'][4].get_ydata()[1]\n",
    "\n",
    "x5 = bplot['medians'][5].get_xdata()[0]\n",
    "y5 = bplot['medians'][5].get_ydata()[0]\n",
    "\n",
    "ax.set_yscale('log')\n",
    "ax.set_xticklabels(['Asia', 'NA', 'EU', 'SA','Aus/Oce', 'Africa'])\n",
    "ax.set_ylabel('Total cases')\n",
    "ax.set_title('Comparison between total cases in 6 continents')\n",
    "\n",
    "\n",
    "#ax.plot([x2, x3], [y2, y3], 'k-')\n",
    "#ax.set_facecolor('lightblue')\n",
    "ax.plot([x, x1], [y, y1], color='red')\n",
    "ax.plot([x1a, x2], [y1a, y2], color='red')\n",
    "ax.plot([x2a, x3], [y2a, y3], color='red')\n",
    "ax.plot([x3a, x4], [y3a, y4], color='red')\n",
    "ax.plot([x4a, x5], [y4a, y5], color='red')\n",
    "\n",
    "ax.xaxis.grid(True)\n",
    "plt.legend([bplot[\"boxes\"][0], bplot[\"boxes\"][1],bplot[\"boxes\"][2],bplot[\"boxes\"][3],bplot[\"boxes\"][4],bplot[\"boxes\"][5]], ['Asia', 'North America','Europe','South America',  'Australia/Oceania','Africa'],bbox_to_anchor=(1.02, 1),loc='upper left', borderaxespad=0)\n",
    "\n",
    "plt.show()"
   ]
  },
  {
   "cell_type": "markdown",
   "metadata": {},
   "source": [
    "### Phân tích Boxplot\n",
    "- Giá trị trung vị của 2 khu vực châu Á và châu Âu cao nhất, đồng nghĩa với việc có số ca nhiễm cao nhất thế giới.\n",
    "- Khu vực Bắc Mỹ có khoảng IQR lớn nhất cho thấy sự đa dạng ca nhiễm ở các nước khu vực này.\n",
    "- Khu vực Australia/Oceania có nhiều outlier là vì khu vực này có khoảng 2 3 quốc gia lớn, dân cư đông, các quốc gia còn lại nhỏ và ít dân, có quốc gia chỉ có  dân số trên 1000 người"
   ]
  },
  {
   "cell_type": "markdown",
   "metadata": {},
   "source": [
    "### Kiểm Định Giả Thuyết Thống Kê\n",
    "#### Câu hỏi đặt ra: Liệu trung bình số ca nhiễm của khu vực châu Âu có ít hơn Nam Mỹ không? \n",
    "1. Giả thuyết:\n",
    "- H<sub>0</sub>: Trung bình số ca nhiễm ở khu vực châu Âu và Nam Mỹ  không có sự khác biệt đáng kể\n",
    "- H<sub>1</sub>: Trung bình số ca nhiễm ở khu vực châu Âu và Nam Mỹ có sự khác biệt đáng kể, cụ thể là châu Âu ít hơn Nam Mỹ\n",
    "\n",
    "2. Kiểm định:\n",
    "\n",
    "| Khu vực | Phương sai | Kích cỡ mẫu |\n",
    "|:----:|:---:|:------:|\n",
    "| Châu Âu | 86621836912598.46875  |  10 |\n",
    "| Nam Mỹ| 95136071331036.1875  | 10|\n",
    "\n",
    "- Lấy ra mẫu ngẫu nhiên gồm số ca nhiễm ở 10 quốc gia bất của châu Âu và Nam Mỹ:\n",
    "\n",
    "| Châu Âu (số ca):| 401636 | 13770429 |2698535|288552|1462976|1268992|615119|3175509|976095|22342128|\n",
    "|------|-----|--------|-----|---|---|---|---|---|---|---|\n",
    "| Nam Mỹ (số ca): | 808401  | 5177770   |1193815|73075|1930|1057121|37076053|6360089|1034303|98041|\n",
    "\n",
    "- Cho độ tin cậy bằng 95% ⇒ Bác bỏ H<sub>0</sub> khi Z < -1.65\n",
    "- Tính được Z = -0.1379  > -1.65 ⇒  Không bác bỏ H<sub>0</sub>\n",
    "- Kết luận: Với độ tin cậy 95% thì tỉ trung bình số ca nhiễm ở khu vực châu Âu và Nam Mỹ  không có sự khác biệt đáng kể\n"
   ]
  },
  {
   "cell_type": "markdown",
   "metadata": {},
   "source": [
    "---"
   ]
  },
  {
   "cell_type": "markdown",
   "metadata": {},
   "source": [
    "# **6. Đôi điều về đồ án** <a name = \"section6\"></a>\n",
    "[Quay về mục lục](#TOC)"
   ]
  },
  {
   "cell_type": "markdown",
   "metadata": {},
   "source": [
    "Mỗi thành viên gặp khó khăn gì?\n",
    "- Tập dữ liệu bị bias khá nhiều, cần tốn khá nhiều thời gian để xử lý hợp lý.\n",
    "\n",
    "Mỗi thành viên học được những gì?\n",
    "- Biết cách phân bổ thời gian hợp lí.\n",
    "\n",
    "Nếu có thêm thời gian, sẽ làm những gì?\n",
    "- Xem lại những câu hỏi cũ, có thể là cụ thể hóa những câu hỏi đó để có thể tìm được đáp án gần chính xác nhất.\n",
    "- Có thể áp dụng các mô hình học máy khác để tìm ra được mô hình tô nhất, từ đó có thể phục vụ cho các câu hỏi liên quan."
   ]
  },
  {
   "cell_type": "markdown",
   "metadata": {},
   "source": [
    "---"
   ]
  },
  {
   "cell_type": "markdown",
   "metadata": {},
   "source": [
    "# **7. Nguồn tham khảo** <a name = \"section7\"></a>\n",
    "[Quay về mục lục](#TOC)"
   ]
  }
 ],
 "metadata": {
  "kernelspec": {
   "display_name": "Python 3 (ipykernel)",
   "language": "python",
   "name": "python3"
  },
  "language_info": {
   "codemirror_mode": {
    "name": "ipython",
    "version": 3
   },
   "file_extension": ".py",
   "mimetype": "text/x-python",
   "name": "python",
   "nbconvert_exporter": "python",
   "pygments_lexer": "ipython3",
   "version": "3.8.8"
  }
 },
 "nbformat": 4,
 "nbformat_minor": 2
}
