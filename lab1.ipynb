{
 "cells": [
  {
   "attachments": {},
   "cell_type": "markdown",
   "metadata": {},
   "source": [
    "<center>\n",
    "\n",
    "# **LAB 1: DATA RELATIONSHIP** \n",
    "\n",
    "</center>"
   ]
  },
  {
   "attachments": {},
   "cell_type": "markdown",
   "metadata": {},
   "source": [
    "<center>\n",
    "\n",
    "# **Mục lục** <a name = \"TOC\"></a>\n",
    "\n",
    "</center>\n",
    "\n",
    "- [1. Giới thiệu thành viên](#section1)\n",
    "- [2. Các thư viện sử dụng](#section2)\n",
    "- [3. Mô tả dữ liệu](#section3)\n",
    "- [4. Giới thiệu thuộc tính và ý nghĩa](#section4)\n",
    "- [5. Xử lý dữ liệu](#section5)\n",
    "    - [5.1. Đọc dữ liệu vào Dataframe](#section5_1)\n",
    "    - [5.2. Số dòng và số cột của tập dữ liệu](#section5_2)\n",
    "    - [5.3. Ý nghĩa của mỗi dòng](#section5_3)\n",
    "    - [5.4. Kiểm tra các dòng bị trùng lắp](#section5_4)\n",
    "    - [5.5. Ý nghĩa của mỗi cột](#section5_5)\n",
    "    - [5.6. Kiểm tra kiểu dữ liệu của các cột và điều chỉnh cho phù hợp](#section5_6)\n",
    "    - [5.7. Tìm sự phân phối của các cột dữ liệu kiểu số](#section5_7)\n",
    "    - [5.8. Tìm sự phân phối của các cột dữ liệu phân loại](#section5_8)\n",
    "    - [5.9. Xử lý các dòng bị thiếu dữ liệu](#section5_9)\n",
    "- [6. Phân tích dữ liệu](#section6)\n",
    "    - [6.1. Câu hỏi số 1](#section6_1)\n",
    "    - [6.2. Câu hỏi số 2](#section6_2)\n",
    "    - [6.3. Câu hỏi số 3](#section6_3)\n",
    "    - [6.4. Câu hỏi số 4](#section6_4)\n",
    "    - [6.5. Câu hỏi số 4](#section6_5)\n",
    "- [7. Đôi điều về đồ án](#section7)\n",
    "- [8. Các nguồn tham khảo](#section8)"
   ]
  },
  {
   "attachments": {},
   "cell_type": "markdown",
   "metadata": {},
   "source": [
    "# **1. Giới thiệu thành viên** <a name = \"section1\"></a>\n",
    "[Quay về mục lục](#TOC)"
   ]
  },
  {
   "attachments": {},
   "cell_type": "markdown",
   "metadata": {},
   "source": [
    "---"
   ]
  },
  {
   "attachments": {},
   "cell_type": "markdown",
   "metadata": {},
   "source": [
    "# **2. Các thư viện sử dụng** <a name = \"section2\"></a>\n",
    "[Quay về mục lục](#TOC)"
   ]
  },
  {
   "cell_type": "code",
   "execution_count": 221,
   "metadata": {},
   "outputs": [],
   "source": [
    "import pandas as pd\n",
    "import numpy as np\n",
    "import seaborn as sn\n",
    "import matplotlib.pyplot as plt"
   ]
  },
  {
   "attachments": {},
   "cell_type": "markdown",
   "metadata": {},
   "source": [
    "---"
   ]
  },
  {
   "attachments": {},
   "cell_type": "markdown",
   "metadata": {},
   "source": [
    "# **3. Mô tả dữ liệu** <a name = \"section3\"></a>\n",
    "[Quay về mục lục](#TOC)"
   ]
  },
  {
   "attachments": {},
   "cell_type": "markdown",
   "metadata": {},
   "source": [
    "---"
   ]
  },
  {
   "attachments": {},
   "cell_type": "markdown",
   "metadata": {},
   "source": [
    "# **4. Giới thiệu thuộc tính và ý nghĩa** <a name = \"section4\"></a>\n",
    "[Quay về mục lục](#TOC)"
   ]
  },
  {
   "attachments": {},
   "cell_type": "markdown",
   "metadata": {},
   "source": [
    "---"
   ]
  },
  {
   "attachments": {},
   "cell_type": "markdown",
   "metadata": {},
   "source": [
    "# **5. Xử lý dữ liệu** <a name = \"section5\"></a>\n",
    "[Quay về mục lục](#TOC)"
   ]
  },
  {
   "attachments": {},
   "cell_type": "markdown",
   "metadata": {},
   "source": [
    "## 5.1. Đọc dữ liệu vào Dataframe <a name = \"section5_1\"></a>\n",
    "[Quay về mục lục](#TOC)"
   ]
  },
  {
   "cell_type": "code",
   "execution_count": 222,
   "metadata": {},
   "outputs": [
    {
     "data": {
      "text/html": [
       "<div>\n",
       "<style scoped>\n",
       "    .dataframe tbody tr th:only-of-type {\n",
       "        vertical-align: middle;\n",
       "    }\n",
       "\n",
       "    .dataframe tbody tr th {\n",
       "        vertical-align: top;\n",
       "    }\n",
       "\n",
       "    .dataframe thead th {\n",
       "        text-align: right;\n",
       "    }\n",
       "</style>\n",
       "<table border=\"1\" class=\"dataframe\">\n",
       "  <thead>\n",
       "    <tr style=\"text-align: right;\">\n",
       "      <th></th>\n",
       "      <th>index</th>\n",
       "      <th>country_other</th>\n",
       "      <th>totalcases</th>\n",
       "      <th>newcases</th>\n",
       "      <th>totaldeaths</th>\n",
       "      <th>newdeaths</th>\n",
       "      <th>totalrecovered</th>\n",
       "      <th>newrecovered</th>\n",
       "      <th>activecases</th>\n",
       "      <th>serious_critical</th>\n",
       "      <th>...</th>\n",
       "      <th>totaltests</th>\n",
       "      <th>tests_1m_pop</th>\n",
       "      <th>population</th>\n",
       "      <th>continent</th>\n",
       "      <th>1_caseevery_x_ppl</th>\n",
       "      <th>1_deathevery_x_ppl</th>\n",
       "      <th>1_testevery_x_ppl</th>\n",
       "      <th>new_cases_1m_pop</th>\n",
       "      <th>new_deaths_1m_pop</th>\n",
       "      <th>active_cases_1m_pop</th>\n",
       "    </tr>\n",
       "  </thead>\n",
       "  <tbody>\n",
       "    <tr>\n",
       "      <th>0</th>\n",
       "      <td>NaN</td>\n",
       "      <td>\\r\\nNorth America\\r\\n</td>\n",
       "      <td>124,725,126</td>\n",
       "      <td>NaN</td>\n",
       "      <td>1,612,592</td>\n",
       "      <td>NaN</td>\n",
       "      <td>120,021,937</td>\n",
       "      <td>+1,529</td>\n",
       "      <td>3,090,597</td>\n",
       "      <td>7,892</td>\n",
       "      <td>...</td>\n",
       "      <td>NaN</td>\n",
       "      <td>NaN</td>\n",
       "      <td>NaN</td>\n",
       "      <td>North America</td>\n",
       "      <td>\\r\\n</td>\n",
       "      <td>NaN</td>\n",
       "      <td>NaN</td>\n",
       "      <td>NaN</td>\n",
       "      <td>NaN</td>\n",
       "      <td>NaN</td>\n",
       "    </tr>\n",
       "    <tr>\n",
       "      <th>1</th>\n",
       "      <td>NaN</td>\n",
       "      <td>\\r\\nAsia\\r\\n</td>\n",
       "      <td>214,494,303</td>\n",
       "      <td>+19,555</td>\n",
       "      <td>1,537,456</td>\n",
       "      <td>125.0</td>\n",
       "      <td>199,126,511</td>\n",
       "      <td>+17,607</td>\n",
       "      <td>13,830,336</td>\n",
       "      <td>15,479</td>\n",
       "      <td>...</td>\n",
       "      <td>NaN</td>\n",
       "      <td>NaN</td>\n",
       "      <td>NaN</td>\n",
       "      <td>Asia</td>\n",
       "      <td>\\r\\n</td>\n",
       "      <td>NaN</td>\n",
       "      <td>NaN</td>\n",
       "      <td>NaN</td>\n",
       "      <td>NaN</td>\n",
       "      <td>NaN</td>\n",
       "    </tr>\n",
       "    <tr>\n",
       "      <th>2</th>\n",
       "      <td>NaN</td>\n",
       "      <td>\\r\\nEurope\\r\\n</td>\n",
       "      <td>246,578,283</td>\n",
       "      <td>+18,461</td>\n",
       "      <td>2,019,397</td>\n",
       "      <td>48.0</td>\n",
       "      <td>242,121,931</td>\n",
       "      <td>+24,102</td>\n",
       "      <td>2,436,955</td>\n",
       "      <td>6,475</td>\n",
       "      <td>...</td>\n",
       "      <td>NaN</td>\n",
       "      <td>NaN</td>\n",
       "      <td>NaN</td>\n",
       "      <td>Europe</td>\n",
       "      <td>\\r\\n</td>\n",
       "      <td>NaN</td>\n",
       "      <td>NaN</td>\n",
       "      <td>NaN</td>\n",
       "      <td>NaN</td>\n",
       "      <td>NaN</td>\n",
       "    </tr>\n",
       "    <tr>\n",
       "      <th>3</th>\n",
       "      <td>NaN</td>\n",
       "      <td>\\r\\nSouth America\\r\\n</td>\n",
       "      <td>68,046,073</td>\n",
       "      <td>+167</td>\n",
       "      <td>1,350,933</td>\n",
       "      <td>8.0</td>\n",
       "      <td>66,293,956</td>\n",
       "      <td>+111</td>\n",
       "      <td>401,184</td>\n",
       "      <td>10,185</td>\n",
       "      <td>...</td>\n",
       "      <td>NaN</td>\n",
       "      <td>NaN</td>\n",
       "      <td>NaN</td>\n",
       "      <td>South America</td>\n",
       "      <td>\\r\\n</td>\n",
       "      <td>NaN</td>\n",
       "      <td>NaN</td>\n",
       "      <td>NaN</td>\n",
       "      <td>NaN</td>\n",
       "      <td>NaN</td>\n",
       "    </tr>\n",
       "    <tr>\n",
       "      <th>4</th>\n",
       "      <td>NaN</td>\n",
       "      <td>\\r\\nOceania\\r\\n</td>\n",
       "      <td>14,015,805</td>\n",
       "      <td>NaN</td>\n",
       "      <td>26,203</td>\n",
       "      <td>NaN</td>\n",
       "      <td>13,852,354</td>\n",
       "      <td>NaN</td>\n",
       "      <td>137,248</td>\n",
       "      <td>55</td>\n",
       "      <td>...</td>\n",
       "      <td>NaN</td>\n",
       "      <td>NaN</td>\n",
       "      <td>NaN</td>\n",
       "      <td>Australia/Oceania</td>\n",
       "      <td>\\r\\n</td>\n",
       "      <td>NaN</td>\n",
       "      <td>NaN</td>\n",
       "      <td>NaN</td>\n",
       "      <td>NaN</td>\n",
       "      <td>NaN</td>\n",
       "    </tr>\n",
       "  </tbody>\n",
       "</table>\n",
       "<p>5 rows × 22 columns</p>\n",
       "</div>"
      ],
      "text/plain": [
       "   index          country_other   totalcases newcases totaldeaths  newdeaths  \\\n",
       "0    NaN  \\r\\nNorth America\\r\\n  124,725,126      NaN   1,612,592        NaN   \n",
       "1    NaN           \\r\\nAsia\\r\\n  214,494,303  +19,555   1,537,456      125.0   \n",
       "2    NaN         \\r\\nEurope\\r\\n  246,578,283  +18,461   2,019,397       48.0   \n",
       "3    NaN  \\r\\nSouth America\\r\\n   68,046,073     +167   1,350,933        8.0   \n",
       "4    NaN        \\r\\nOceania\\r\\n   14,015,805      NaN      26,203        NaN   \n",
       "\n",
       "  totalrecovered newrecovered activecases serious_critical  ... totaltests  \\\n",
       "0    120,021,937       +1,529   3,090,597            7,892  ...        NaN   \n",
       "1    199,126,511      +17,607  13,830,336           15,479  ...        NaN   \n",
       "2    242,121,931      +24,102   2,436,955            6,475  ...        NaN   \n",
       "3     66,293,956         +111     401,184           10,185  ...        NaN   \n",
       "4     13,852,354          NaN     137,248               55  ...        NaN   \n",
       "\n",
       "  tests_1m_pop population          continent 1_caseevery_x_ppl  \\\n",
       "0          NaN        NaN      North America              \\r\\n   \n",
       "1          NaN        NaN               Asia              \\r\\n   \n",
       "2          NaN        NaN             Europe              \\r\\n   \n",
       "3          NaN        NaN      South America              \\r\\n   \n",
       "4          NaN        NaN  Australia/Oceania              \\r\\n   \n",
       "\n",
       "  1_deathevery_x_ppl 1_testevery_x_ppl new_cases_1m_pop  new_deaths_1m_pop  \\\n",
       "0                NaN               NaN              NaN                NaN   \n",
       "1                NaN               NaN              NaN                NaN   \n",
       "2                NaN               NaN              NaN                NaN   \n",
       "3                NaN               NaN              NaN                NaN   \n",
       "4                NaN               NaN              NaN                NaN   \n",
       "\n",
       "   active_cases_1m_pop  \n",
       "0                  NaN  \n",
       "1                  NaN  \n",
       "2                  NaN  \n",
       "3                  NaN  \n",
       "4                  NaN  \n",
       "\n",
       "[5 rows x 22 columns]"
      ]
     },
     "execution_count": 222,
     "metadata": {},
     "output_type": "execute_result"
    }
   ],
   "source": [
    "covid19_df = pd.read_csv('covid19_05_03_2023.csv')\n",
    "covid19_df.head()"
   ]
  },
  {
   "cell_type": "code",
   "execution_count": 223,
   "metadata": {},
   "outputs": [],
   "source": [
    "def preprocess(df):\n",
    "    df.drop(columns=df.columns[0], axis=1,  inplace=True)\n",
    "    df['country_other'] = df['country_other'].str.strip()\n",
    "    df = df[df['country_other']!='']\n",
    "    df_ = df.copy()\n",
    "    df_.replace(to_replace = r'\\D',value = '',regex=True,inplace = True)\n",
    "    df_.iloc[:,0] = df.iloc[:,0]\n",
    "    df_['continent'] = df['continent']\n",
    "    return df_"
   ]
  },
  {
   "cell_type": "code",
   "execution_count": 224,
   "metadata": {},
   "outputs": [
    {
     "data": {
      "text/plain": [
       "0          North America\n",
       "1                   Asia\n",
       "2                 Europe\n",
       "3          South America\n",
       "4      Australia/Oceania\n",
       "             ...        \n",
       "242        South America\n",
       "243    Australia/Oceania\n",
       "244               Africa\n",
       "245                  NaN\n",
       "246                  All\n",
       "Name: continent, Length: 246, dtype: object"
      ]
     },
     "execution_count": 224,
     "metadata": {},
     "output_type": "execute_result"
    }
   ],
   "source": [
    "covid19_df = preprocess(covid19_df)\n",
    "covid19_df['continent']"
   ]
  },
  {
   "attachments": {},
   "cell_type": "markdown",
   "metadata": {},
   "source": [
    "## 5.2. Số dòng và số cột của tập dữ liệu <a name = \"section5_2\"></a>\n",
    "[Quay về mục lục](#TOC)"
   ]
  },
  {
   "cell_type": "code",
   "execution_count": 225,
   "metadata": {},
   "outputs": [
    {
     "name": "stdout",
     "output_type": "stream",
     "text": [
      "Số dòng: 246\n",
      "Số cột 21\n"
     ]
    }
   ],
   "source": [
    "row = covid19_df.shape[0]\n",
    "col = covid19_df.shape[1]\n",
    "print('Số dòng:', row)\n",
    "print('Số cột', col)"
   ]
  },
  {
   "attachments": {},
   "cell_type": "markdown",
   "metadata": {},
   "source": [
    "## 5.3. Ý nghĩa của mỗi dòng <a name = \"section5_3\"></a>\n",
    "[Quay về mục lục](#TOC)"
   ]
  },
  {
   "attachments": {},
   "cell_type": "markdown",
   "metadata": {},
   "source": [
    "## 5.4. Kiểm tra các dòng bị trùng lắp <a name = \"section5_4\"></a>\n",
    "[Quay về mục lục](#TOC)"
   ]
  },
  {
   "cell_type": "code",
   "execution_count": 226,
   "metadata": {},
   "outputs": [
    {
     "data": {
      "text/html": [
       "<div>\n",
       "<style scoped>\n",
       "    .dataframe tbody tr th:only-of-type {\n",
       "        vertical-align: middle;\n",
       "    }\n",
       "\n",
       "    .dataframe tbody tr th {\n",
       "        vertical-align: top;\n",
       "    }\n",
       "\n",
       "    .dataframe thead th {\n",
       "        text-align: right;\n",
       "    }\n",
       "</style>\n",
       "<table border=\"1\" class=\"dataframe\">\n",
       "  <thead>\n",
       "    <tr style=\"text-align: right;\">\n",
       "      <th></th>\n",
       "      <th>country_other</th>\n",
       "      <th>totalcases</th>\n",
       "      <th>newcases</th>\n",
       "      <th>totaldeaths</th>\n",
       "      <th>newdeaths</th>\n",
       "      <th>totalrecovered</th>\n",
       "      <th>newrecovered</th>\n",
       "      <th>activecases</th>\n",
       "      <th>serious_critical</th>\n",
       "      <th>tot_cases_1m_pop</th>\n",
       "      <th>...</th>\n",
       "      <th>totaltests</th>\n",
       "      <th>tests_1m_pop</th>\n",
       "      <th>population</th>\n",
       "      <th>continent</th>\n",
       "      <th>1_caseevery_x_ppl</th>\n",
       "      <th>1_deathevery_x_ppl</th>\n",
       "      <th>1_testevery_x_ppl</th>\n",
       "      <th>new_cases_1m_pop</th>\n",
       "      <th>new_deaths_1m_pop</th>\n",
       "      <th>active_cases_1m_pop</th>\n",
       "    </tr>\n",
       "  </thead>\n",
       "  <tbody>\n",
       "  </tbody>\n",
       "</table>\n",
       "<p>0 rows × 21 columns</p>\n",
       "</div>"
      ],
      "text/plain": [
       "Empty DataFrame\n",
       "Columns: [country_other, totalcases, newcases, totaldeaths, newdeaths, totalrecovered, newrecovered, activecases, serious_critical, tot_cases_1m_pop, deaths_1m_pop, totaltests, tests_1m_pop, population, continent, 1_caseevery_x_ppl, 1_deathevery_x_ppl, 1_testevery_x_ppl, new_cases_1m_pop, new_deaths_1m_pop, active_cases_1m_pop]\n",
       "Index: []\n",
       "\n",
       "[0 rows x 21 columns]"
      ]
     },
     "execution_count": 226,
     "metadata": {},
     "output_type": "execute_result"
    }
   ],
   "source": [
    "duplicated = covid19_df.duplicated()\n",
    "pd.DataFrame(covid19_df[duplicated==True])"
   ]
  },
  {
   "attachments": {},
   "cell_type": "markdown",
   "metadata": {},
   "source": [
    "## 5.5. Ý nghĩa của mỗi cột <a name = \"section5_5\"></a>\n",
    "[Quay về mục lục](#TOC)"
   ]
  },
  {
   "attachments": {},
   "cell_type": "markdown",
   "metadata": {},
   "source": [
    "## 5.6. Kiểm tra kiểu dữ liệu của các cột và điều chỉnh cho phù hợp <a name = \"section5_6\"></a>\n",
    "[Quay về mục lục](#TOC)"
   ]
  },
  {
   "cell_type": "code",
   "execution_count": 227,
   "metadata": {},
   "outputs": [
    {
     "data": {
      "text/plain": [
       "country_other           object\n",
       "totalcases              object\n",
       "newcases                object\n",
       "totaldeaths             object\n",
       "newdeaths              float64\n",
       "totalrecovered          object\n",
       "newrecovered            object\n",
       "activecases             object\n",
       "serious_critical        object\n",
       "tot_cases_1m_pop        object\n",
       "deaths_1m_pop           object\n",
       "totaltests              object\n",
       "tests_1m_pop            object\n",
       "population              object\n",
       "continent               object\n",
       "1_caseevery_x_ppl       object\n",
       "1_deathevery_x_ppl      object\n",
       "1_testevery_x_ppl      float64\n",
       "new_cases_1m_pop       float64\n",
       "new_deaths_1m_pop      float64\n",
       "active_cases_1m_pop     object\n",
       "dtype: object"
      ]
     },
     "execution_count": 227,
     "metadata": {},
     "output_type": "execute_result"
    }
   ],
   "source": [
    "covid19_df.dtypes"
   ]
  },
  {
   "attachments": {},
   "cell_type": "markdown",
   "metadata": {},
   "source": [
    "## 5.7. Tìm sự phân phối của các cột dữ liệu kiểu số <a name = \"section5_7\"></a>\n",
    "[Quay về mục lục](#TOC)"
   ]
  },
  {
   "attachments": {},
   "cell_type": "markdown",
   "metadata": {},
   "source": [
    "## 5.8. Tìm sự phân phối của các cột dữ liệu phân loại <a name = \"section5_8\"></a>\n",
    "[Quay về mục lục](#TOC)"
   ]
  },
  {
   "attachments": {},
   "cell_type": "markdown",
   "metadata": {},
   "source": [
    "## 5.9. Xử lý các dòng bị thiếu dữ liệu <a name = \"section5_9\"></a>\n",
    "[Quay về mục lục](#TOC)"
   ]
  },
  {
   "attachments": {},
   "cell_type": "markdown",
   "metadata": {},
   "source": [
    "---"
   ]
  },
  {
   "attachments": {},
   "cell_type": "markdown",
   "metadata": {},
   "source": [
    "# **6. Phân tích dữ liệu** <a name = \"section6\"></a>\n",
    "[Quay về mục lục](#TOC)"
   ]
  },
  {
   "attachments": {},
   "cell_type": "markdown",
   "metadata": {},
   "source": [
    "## 6.1. Câu hỏi số 1 <a name = \"section6_1\"></a>\n",
    "[Quay về mục lục](#TOC)"
   ]
  },
  {
   "attachments": {},
   "cell_type": "markdown",
   "metadata": {},
   "source": [
    "## 6.2. Câu hỏi số 2 <a name = \"section6_2\"></a>\n",
    "[Quay về mục lục](#TOC)"
   ]
  },
  {
   "attachments": {},
   "cell_type": "markdown",
   "metadata": {},
   "source": [
    "## 6.3. Câu hỏi số 3 <a name = \"section6_3\"></a>\n",
    "[Quay về mục lục](#TOC)"
   ]
  },
  {
   "attachments": {},
   "cell_type": "markdown",
   "metadata": {},
   "source": [
    "## 6.4. Câu hỏi số 4 <a name = \"section6_4\"></a>\n",
    "[Quay về mục lục](#TOC)"
   ]
  },
  {
   "attachments": {},
   "cell_type": "markdown",
   "metadata": {},
   "source": [
    "- Trước tiên lựa chọn những hàng cần thiết để có thể vẽ donut chart. Ở đây ta sẽ chọn những cột 'continent','totaldeaths','totalrecovered','activecases', 'totalcases' vì biểu đồ diễn tả mối quan hệ thành phần tác động đến tổng thể dữ liệu và ép kiểu cho phù hợp."
   ]
  },
  {
   "cell_type": "code",
   "execution_count": 228,
   "metadata": {},
   "outputs": [
    {
     "data": {
      "text/html": [
       "<div>\n",
       "<style scoped>\n",
       "    .dataframe tbody tr th:only-of-type {\n",
       "        vertical-align: middle;\n",
       "    }\n",
       "\n",
       "    .dataframe tbody tr th {\n",
       "        vertical-align: top;\n",
       "    }\n",
       "\n",
       "    .dataframe thead th {\n",
       "        text-align: right;\n",
       "    }\n",
       "</style>\n",
       "<table border=\"1\" class=\"dataframe\">\n",
       "  <thead>\n",
       "    <tr style=\"text-align: right;\">\n",
       "      <th></th>\n",
       "      <th>index</th>\n",
       "      <th>country_other</th>\n",
       "      <th>totalcases</th>\n",
       "      <th>newcases</th>\n",
       "      <th>totaldeaths</th>\n",
       "      <th>newdeaths</th>\n",
       "      <th>totalrecovered</th>\n",
       "      <th>newrecovered</th>\n",
       "      <th>activecases</th>\n",
       "      <th>serious_critical</th>\n",
       "      <th>...</th>\n",
       "      <th>totaltests</th>\n",
       "      <th>tests_1m_pop</th>\n",
       "      <th>population</th>\n",
       "      <th>continent</th>\n",
       "      <th>1_caseevery_x_ppl</th>\n",
       "      <th>1_deathevery_x_ppl</th>\n",
       "      <th>1_testevery_x_ppl</th>\n",
       "      <th>new_cases_1m_pop</th>\n",
       "      <th>new_deaths_1m_pop</th>\n",
       "      <th>active_cases_1m_pop</th>\n",
       "    </tr>\n",
       "  </thead>\n",
       "  <tbody>\n",
       "    <tr>\n",
       "      <th>0</th>\n",
       "      <td>239</td>\n",
       "      <td>Total:</td>\n",
       "      <td>124725126.0</td>\n",
       "      <td>NaN</td>\n",
       "      <td>1612592.0</td>\n",
       "      <td>NaN</td>\n",
       "      <td>120021937.0</td>\n",
       "      <td>NaN</td>\n",
       "      <td>3090597.0</td>\n",
       "      <td>7892</td>\n",
       "      <td>...</td>\n",
       "      <td>NaN</td>\n",
       "      <td>NaN</td>\n",
       "      <td>NaN</td>\n",
       "      <td>North America</td>\n",
       "      <td></td>\n",
       "      <td>NaN</td>\n",
       "      <td>NaN</td>\n",
       "      <td>NaN</td>\n",
       "      <td>NaN</td>\n",
       "      <td>NaN</td>\n",
       "    </tr>\n",
       "    <tr>\n",
       "      <th>1</th>\n",
       "      <td>240</td>\n",
       "      <td>Total:</td>\n",
       "      <td>214494303.0</td>\n",
       "      <td>19555</td>\n",
       "      <td>1537456.0</td>\n",
       "      <td>125.0</td>\n",
       "      <td>199126511.0</td>\n",
       "      <td>17607</td>\n",
       "      <td>13830336.0</td>\n",
       "      <td>15479</td>\n",
       "      <td>...</td>\n",
       "      <td>NaN</td>\n",
       "      <td>NaN</td>\n",
       "      <td>NaN</td>\n",
       "      <td>Asia</td>\n",
       "      <td></td>\n",
       "      <td>NaN</td>\n",
       "      <td>NaN</td>\n",
       "      <td>NaN</td>\n",
       "      <td>NaN</td>\n",
       "      <td>NaN</td>\n",
       "    </tr>\n",
       "    <tr>\n",
       "      <th>2</th>\n",
       "      <td>241</td>\n",
       "      <td>Total:</td>\n",
       "      <td>246578283.0</td>\n",
       "      <td>18461</td>\n",
       "      <td>2019397.0</td>\n",
       "      <td>48.0</td>\n",
       "      <td>242121931.0</td>\n",
       "      <td>24102</td>\n",
       "      <td>2436955.0</td>\n",
       "      <td>6475</td>\n",
       "      <td>...</td>\n",
       "      <td>NaN</td>\n",
       "      <td>NaN</td>\n",
       "      <td>NaN</td>\n",
       "      <td>Europe</td>\n",
       "      <td></td>\n",
       "      <td>NaN</td>\n",
       "      <td>NaN</td>\n",
       "      <td>NaN</td>\n",
       "      <td>NaN</td>\n",
       "      <td>NaN</td>\n",
       "    </tr>\n",
       "    <tr>\n",
       "      <th>3</th>\n",
       "      <td>242</td>\n",
       "      <td>Total:</td>\n",
       "      <td>68046073.0</td>\n",
       "      <td>167</td>\n",
       "      <td>1350933.0</td>\n",
       "      <td>8.0</td>\n",
       "      <td>66293956.0</td>\n",
       "      <td>111</td>\n",
       "      <td>401184.0</td>\n",
       "      <td>10185</td>\n",
       "      <td>...</td>\n",
       "      <td>NaN</td>\n",
       "      <td>NaN</td>\n",
       "      <td>NaN</td>\n",
       "      <td>South America</td>\n",
       "      <td></td>\n",
       "      <td>NaN</td>\n",
       "      <td>NaN</td>\n",
       "      <td>NaN</td>\n",
       "      <td>NaN</td>\n",
       "      <td>NaN</td>\n",
       "    </tr>\n",
       "    <tr>\n",
       "      <th>4</th>\n",
       "      <td>243</td>\n",
       "      <td>Total:</td>\n",
       "      <td>14015805.0</td>\n",
       "      <td>NaN</td>\n",
       "      <td>26203.0</td>\n",
       "      <td>NaN</td>\n",
       "      <td>13852354.0</td>\n",
       "      <td>NaN</td>\n",
       "      <td>137248.0</td>\n",
       "      <td>55</td>\n",
       "      <td>...</td>\n",
       "      <td>NaN</td>\n",
       "      <td>NaN</td>\n",
       "      <td>NaN</td>\n",
       "      <td>Australia/Oceania</td>\n",
       "      <td></td>\n",
       "      <td>NaN</td>\n",
       "      <td>NaN</td>\n",
       "      <td>NaN</td>\n",
       "      <td>NaN</td>\n",
       "      <td>NaN</td>\n",
       "    </tr>\n",
       "    <tr>\n",
       "      <th>5</th>\n",
       "      <td>244</td>\n",
       "      <td>Total:</td>\n",
       "      <td>12796416.0</td>\n",
       "      <td>12</td>\n",
       "      <td>258590.0</td>\n",
       "      <td>NaN</td>\n",
       "      <td>12076475.0</td>\n",
       "      <td>NaN</td>\n",
       "      <td>461351.0</td>\n",
       "      <td>548</td>\n",
       "      <td>...</td>\n",
       "      <td>NaN</td>\n",
       "      <td>NaN</td>\n",
       "      <td>NaN</td>\n",
       "      <td>Africa</td>\n",
       "      <td></td>\n",
       "      <td>NaN</td>\n",
       "      <td>NaN</td>\n",
       "      <td>NaN</td>\n",
       "      <td>NaN</td>\n",
       "      <td>NaN</td>\n",
       "    </tr>\n",
       "    <tr>\n",
       "      <th>6</th>\n",
       "      <td>245</td>\n",
       "      <td>Total:</td>\n",
       "      <td>721.0</td>\n",
       "      <td>NaN</td>\n",
       "      <td>15.0</td>\n",
       "      <td>NaN</td>\n",
       "      <td>706.0</td>\n",
       "      <td>NaN</td>\n",
       "      <td>0.0</td>\n",
       "      <td>0</td>\n",
       "      <td>...</td>\n",
       "      <td>NaN</td>\n",
       "      <td>NaN</td>\n",
       "      <td>NaN</td>\n",
       "      <td>NaN</td>\n",
       "      <td></td>\n",
       "      <td>NaN</td>\n",
       "      <td>NaN</td>\n",
       "      <td>NaN</td>\n",
       "      <td>NaN</td>\n",
       "      <td>NaN</td>\n",
       "    </tr>\n",
       "    <tr>\n",
       "      <th>7</th>\n",
       "      <td>246</td>\n",
       "      <td>Total:</td>\n",
       "      <td>680656727.0</td>\n",
       "      <td>38195</td>\n",
       "      <td>6805186.0</td>\n",
       "      <td>181.0</td>\n",
       "      <td>653493870.0</td>\n",
       "      <td>43375</td>\n",
       "      <td>20357671.0</td>\n",
       "      <td>40634</td>\n",
       "      <td>...</td>\n",
       "      <td>NaN</td>\n",
       "      <td>NaN</td>\n",
       "      <td>NaN</td>\n",
       "      <td>All</td>\n",
       "      <td></td>\n",
       "      <td>NaN</td>\n",
       "      <td>NaN</td>\n",
       "      <td>NaN</td>\n",
       "      <td>NaN</td>\n",
       "      <td>NaN</td>\n",
       "    </tr>\n",
       "  </tbody>\n",
       "</table>\n",
       "<p>8 rows × 22 columns</p>\n",
       "</div>"
      ],
      "text/plain": [
       "   index country_other   totalcases newcases  totaldeaths  newdeaths  \\\n",
       "0    239        Total:  124725126.0      NaN    1612592.0        NaN   \n",
       "1    240        Total:  214494303.0    19555    1537456.0      125.0   \n",
       "2    241        Total:  246578283.0    18461    2019397.0       48.0   \n",
       "3    242        Total:   68046073.0      167    1350933.0        8.0   \n",
       "4    243        Total:   14015805.0      NaN      26203.0        NaN   \n",
       "5    244        Total:   12796416.0       12     258590.0        NaN   \n",
       "6    245        Total:        721.0      NaN         15.0        NaN   \n",
       "7    246        Total:  680656727.0    38195    6805186.0      181.0   \n",
       "\n",
       "   totalrecovered newrecovered  activecases serious_critical  ... totaltests  \\\n",
       "0     120021937.0          NaN    3090597.0             7892  ...        NaN   \n",
       "1     199126511.0        17607   13830336.0            15479  ...        NaN   \n",
       "2     242121931.0        24102    2436955.0             6475  ...        NaN   \n",
       "3      66293956.0          111     401184.0            10185  ...        NaN   \n",
       "4      13852354.0          NaN     137248.0               55  ...        NaN   \n",
       "5      12076475.0          NaN     461351.0              548  ...        NaN   \n",
       "6           706.0          NaN          0.0                0  ...        NaN   \n",
       "7     653493870.0        43375   20357671.0            40634  ...        NaN   \n",
       "\n",
       "  tests_1m_pop population          continent 1_caseevery_x_ppl  \\\n",
       "0          NaN        NaN      North America                     \n",
       "1          NaN        NaN               Asia                     \n",
       "2          NaN        NaN             Europe                     \n",
       "3          NaN        NaN      South America                     \n",
       "4          NaN        NaN  Australia/Oceania                     \n",
       "5          NaN        NaN             Africa                     \n",
       "6          NaN        NaN                NaN                     \n",
       "7          NaN        NaN                All                     \n",
       "\n",
       "  1_deathevery_x_ppl 1_testevery_x_ppl new_cases_1m_pop  new_deaths_1m_pop  \\\n",
       "0                NaN               NaN              NaN                NaN   \n",
       "1                NaN               NaN              NaN                NaN   \n",
       "2                NaN               NaN              NaN                NaN   \n",
       "3                NaN               NaN              NaN                NaN   \n",
       "4                NaN               NaN              NaN                NaN   \n",
       "5                NaN               NaN              NaN                NaN   \n",
       "6                NaN               NaN              NaN                NaN   \n",
       "7                NaN               NaN              NaN                NaN   \n",
       "\n",
       "   active_cases_1m_pop  \n",
       "0                  NaN  \n",
       "1                  NaN  \n",
       "2                  NaN  \n",
       "3                  NaN  \n",
       "4                  NaN  \n",
       "5                  NaN  \n",
       "6                  NaN  \n",
       "7                  NaN  \n",
       "\n",
       "[8 rows x 22 columns]"
      ]
     },
     "execution_count": 228,
     "metadata": {},
     "output_type": "execute_result"
    }
   ],
   "source": [
    "\n",
    "df = covid19_df[covid19_df['country_other'] == 'Total:'].reset_index()\n",
    "df['totalcases'] = df['totalcases'].astype('float')\n",
    "df['totaldeaths'] = df['totaldeaths'].astype('float')\n",
    "df['totalrecovered'] = df['totalrecovered'].astype('float')\n",
    "df['activecases'] = df['activecases'].astype('float')\n",
    "df"
   ]
  },
  {
   "attachments": {},
   "cell_type": "markdown",
   "metadata": {},
   "source": [
    "- Sau đó ta sẽ góp nhóm theo từng khu vực để tiện cho việc vẽ biểu đồ theo từng khu vực."
   ]
  },
  {
   "cell_type": "code",
   "execution_count": 229,
   "metadata": {},
   "outputs": [
    {
     "data": {
      "text/html": [
       "<div>\n",
       "<style scoped>\n",
       "    .dataframe tbody tr th:only-of-type {\n",
       "        vertical-align: middle;\n",
       "    }\n",
       "\n",
       "    .dataframe tbody tr th {\n",
       "        vertical-align: top;\n",
       "    }\n",
       "\n",
       "    .dataframe thead th {\n",
       "        text-align: right;\n",
       "    }\n",
       "</style>\n",
       "<table border=\"1\" class=\"dataframe\">\n",
       "  <thead>\n",
       "    <tr style=\"text-align: right;\">\n",
       "      <th></th>\n",
       "      <th>totaldeaths</th>\n",
       "      <th>totalrecovered</th>\n",
       "      <th>activecases</th>\n",
       "      <th>totalcases</th>\n",
       "    </tr>\n",
       "    <tr>\n",
       "      <th>continent</th>\n",
       "      <th></th>\n",
       "      <th></th>\n",
       "      <th></th>\n",
       "      <th></th>\n",
       "    </tr>\n",
       "  </thead>\n",
       "  <tbody>\n",
       "    <tr>\n",
       "      <th>Africa</th>\n",
       "      <td>258590.0</td>\n",
       "      <td>12076475.0</td>\n",
       "      <td>461351.0</td>\n",
       "      <td>12796416.0</td>\n",
       "    </tr>\n",
       "    <tr>\n",
       "      <th>Asia</th>\n",
       "      <td>1537456.0</td>\n",
       "      <td>199126511.0</td>\n",
       "      <td>13830336.0</td>\n",
       "      <td>214494303.0</td>\n",
       "    </tr>\n",
       "    <tr>\n",
       "      <th>Australia/Oceania</th>\n",
       "      <td>26203.0</td>\n",
       "      <td>13852354.0</td>\n",
       "      <td>137248.0</td>\n",
       "      <td>14015805.0</td>\n",
       "    </tr>\n",
       "    <tr>\n",
       "      <th>Europe</th>\n",
       "      <td>2019397.0</td>\n",
       "      <td>242121931.0</td>\n",
       "      <td>2436955.0</td>\n",
       "      <td>246578283.0</td>\n",
       "    </tr>\n",
       "    <tr>\n",
       "      <th>North America</th>\n",
       "      <td>1612592.0</td>\n",
       "      <td>120021937.0</td>\n",
       "      <td>3090597.0</td>\n",
       "      <td>124725126.0</td>\n",
       "    </tr>\n",
       "    <tr>\n",
       "      <th>South America</th>\n",
       "      <td>1350933.0</td>\n",
       "      <td>66293956.0</td>\n",
       "      <td>401184.0</td>\n",
       "      <td>68046073.0</td>\n",
       "    </tr>\n",
       "  </tbody>\n",
       "</table>\n",
       "</div>"
      ],
      "text/plain": [
       "                   totaldeaths  totalrecovered  activecases   totalcases\n",
       "continent                                                               \n",
       "Africa                258590.0      12076475.0     461351.0   12796416.0\n",
       "Asia                 1537456.0     199126511.0   13830336.0  214494303.0\n",
       "Australia/Oceania      26203.0      13852354.0     137248.0   14015805.0\n",
       "Europe               2019397.0     242121931.0    2436955.0  246578283.0\n",
       "North America        1612592.0     120021937.0    3090597.0  124725126.0\n",
       "South America        1350933.0      66293956.0     401184.0   68046073.0"
      ]
     },
     "execution_count": 229,
     "metadata": {},
     "output_type": "execute_result"
    }
   ],
   "source": [
    "df = df[['continent','totaldeaths','totalrecovered','activecases', 'totalcases']]\n",
    "df = df[df['continent']!='All']\n",
    "test = df.groupby(['continent']).sum()\n",
    "test"
   ]
  },
  {
   "attachments": {},
   "cell_type": "markdown",
   "metadata": {},
   "source": [
    "- Xử lý dữ liệu để có thể tiện vẽ biểu đồ."
   ]
  },
  {
   "cell_type": "code",
   "execution_count": 230,
   "metadata": {},
   "outputs": [
    {
     "data": {
      "text/plain": [
       "[1612592.0,\n",
       " 120021937.0,\n",
       " 3090597.0,\n",
       " 1537456.0,\n",
       " 199126511.0,\n",
       " 13830336.0,\n",
       " 2019397.0,\n",
       " 242121931.0,\n",
       " 2436955.0,\n",
       " 1350933.0,\n",
       " 66293956.0,\n",
       " 401184.0,\n",
       " 26203.0,\n",
       " 13852354.0,\n",
       " 137248.0,\n",
       " 258590.0,\n",
       " 12076475.0,\n",
       " 461351.0]"
      ]
     },
     "execution_count": 230,
     "metadata": {},
     "output_type": "execute_result"
    }
   ],
   "source": [
    "df = df[df['continent']!='All']\n",
    "list_re = df.groupby(['continent'],sort=False).sum()\n",
    "test = list(map(float, list_re[['totaldeaths','totalrecovered','activecases']].values.flatten()))\n",
    "test"
   ]
  },
  {
   "attachments": {},
   "cell_type": "markdown",
   "metadata": {},
   "source": [
    "- Cuối cùng là vẽ biểu đồ thể hiện mối tương quan của các trường dữ liệu đã chọn."
   ]
  },
  {
   "cell_type": "code",
   "execution_count": 231,
   "metadata": {},
   "outputs": [
    {
     "data": {
      "image/png": "[encoded data removed]",
      "text/plain": [
       "<Figure size 1000x900 with 1 Axes>"
      ]
     },
     "metadata": {},
     "output_type": "display_data"
    }
   ],
   "source": [
    "fig, ax = plt.subplots(figsize = (10,9))\n",
    "size = 0.3\n",
    "labels = ['totaldeaths', 'totalrecovered', 'activecases']\n",
    "mycolor1 = ['#e3342f','#ffed4a','#4dc0b5','#6574cd','#9561e2','#f66d9b']\n",
    "ax.pie(df['totalcases'][:6],labels=df['continent'][:6], radius=1,\n",
    "       autopct='%1.1f%%', pctdistance=0.8,\n",
    "       wedgeprops=dict(width=size, edgecolor='w'),colors=mycolor1)\n",
    "\n",
    "mycolor2 = ['#38c172','#f6993f','#3490dc',]\n",
    "ax.pie(test, radius=1-size, autopct='%1.1f%%', pctdistance=0.75,\n",
    "       wedgeprops=dict(width=size, edgecolor='w'), colors=mycolor2)\n",
    "\n",
    "labels_2 = list (df['continent'].loc[:5])\n",
    "\n",
    "first_legend = plt.legend(labels_2,loc = 2)\n",
    "ax = plt.gca().add_artist(first_legend)\n",
    "second_legend = plt.legend(labels,loc = 4,ncol=1)\n",
    "fig.suptitle('Biểu đồ thể hiện mối quan hệ của totalcases,totaldeaths, totalrecovered và activecases', fontsize=16)\n",
    "\n",
    "ax.set()\n",
    "plt.show()"
   ]
  },
  {
   "attachments": {},
   "cell_type": "markdown",
   "metadata": {},
   "source": [
    "Từ biểu đồ donutchart, ta thấy được:\n",
    "- Ở vòng tròn thứ nhất, tức là vòng ngoài cùng, đó là totalcases của các khu vực. Trong đó các khu vực Asia, Europe chiếm tỉ trọng khá cao, cụ thể lần lượt là 31.5% và 36.2%, đồng nghĩa là các nước trong khu vực này sẽ nhiều tổng ca bao gồm ca nhiễm, ca hồi phục và ca tử vong. Tiếp theo, các khu vực chiếm tỉ trọng tương đối là South America và North America. Cuối cùng là các nước ở khu vực Africa và Australia/Oceania, chiểm tỉ trọng thấp nhất trong biểu, cũng có thể xem là tổng số ca ít nhất so với các khu vực khác.\n",
    "- Để có thể hiểu rõ hơn từng khu vực, ta có thể xem vòng tròn thứ hai, tức là vòng tròn trong cùng, mỗi khu vực sẽ bao gồm totaldeaths, totalrecovered, activecases để thể tỉ trọng trong từng khu vực. Như ta thấy thì số ca hồi phục chiểm nhiều hơn so với số ca nhiễm và số ca tử vong. Cũng chính vì điều đó đã cho ta thấy được y tế được cải thiện rất nhiều so với những năm trước, Chính phủ đã quan tâm tới sức khoẻ của người dân nhiều hơn hoặc là đã tìm ra các phương pháp cứu chữa để làm giảm số ca tử vong.\n"
   ]
  },
  {
   "attachments": {},
   "cell_type": "markdown",
   "metadata": {},
   "source": [
    "## 6.5. Câu hỏi số 5 <a name = \"section6_5\"></a>\n",
    "[Quay về mục lục](#TOC)"
   ]
  },
  {
   "attachments": {},
   "cell_type": "markdown",
   "metadata": {},
   "source": [
    "---"
   ]
  },
  {
   "attachments": {},
   "cell_type": "markdown",
   "metadata": {},
   "source": [
    "# **7. Đôi điều về đồ án** <a name = \"section7\"></a>\n",
    "[Quay về mục lục](#TOC)"
   ]
  },
  {
   "attachments": {},
   "cell_type": "markdown",
   "metadata": {},
   "source": [
    "---"
   ]
  },
  {
   "attachments": {},
   "cell_type": "markdown",
   "metadata": {},
   "source": [
    "# **8. Nguồn tham khảo** <a name = \"section8\"></a>\n",
    "[Quay về mục lục](#TOC)"
   ]
  }
 ],
 "metadata": {
  "kernelspec": {
   "display_name": "Python 3",
   "language": "python",
   "name": "python3"
  },
  "language_info": {
   "codemirror_mode": {
    "name": "ipython",
    "version": 3
   },
   "file_extension": ".py",
   "mimetype": "text/x-python",
   "name": "python",
   "nbconvert_exporter": "python",
   "pygments_lexer": "ipython3",
   "version": "3.11.1"
  },
  "orig_nbformat": 4,
  "vscode": {
   "interpreter": {
    "hash": "89884951c204a490a0e5e02246d0d5236aedb540195ee139bb07a941eb5699f7"
   }
  }
 },
 "nbformat": 4,
 "nbformat_minor": 2
}
